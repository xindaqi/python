{
 "cells": [
  {
   "cell_type": "markdown",
   "metadata": {},
   "source": [
    "## process mnist data with TFRecord"
   ]
  },
  {
   "cell_type": "code",
   "execution_count": 29,
   "metadata": {},
   "outputs": [
    {
     "name": "stdout",
     "output_type": "stream",
     "text": [
      "Extracting ../mnist_data/train-images-idx3-ubyte.gz\n",
      "Extracting ../mnist_data/train-labels-idx1-ubyte.gz\n",
      "Extracting ../mnist_data/t10k-images-idx3-ubyte.gz\n",
      "Extracting ../mnist_data/t10k-labels-idx1-ubyte.gz\n",
      "type or image value: <class 'numpy.ndarray'>\n",
      "Train images numbers: 55000\n",
      "Train images shape: (55000, 784)\n",
      "Train images label: [0. 0. 0. 0. 0. 0. 0. 1. 0. 0.]\n",
      "Train images value shape: (784,)\n",
      "Train images label shape: (10,)\n",
      "Test data numbers: 10000\n",
      "Test images shape: (10000, 784)\n",
      "Test images label: [0. 0. 0. 0. 0. 0. 0. 1. 0. 0.]\n",
      "Test images value shape: (784,)\n",
      "Test images label shape: (10,)\n"
     ]
    }
   ],
   "source": [
    "import tensorflow as tf\n",
    "from sklearn.metrics import confusion_matrix\n",
    "tf.reset_default_graph()\n",
    "from tensorflow.examples.tutorials.mnist import input_data\n",
    "import matplotlib.pyplot as plt\n",
    "import numpy as np\n",
    "def _bytes_feature(value):\n",
    "    return tf.train.Feature(bytes_list=tf.train.BytesList(value=[value]))\n",
    "def _int64_feature(value):\n",
    "    return tf.train.Feature(int64_list=tf.train.Int64List(value=[value]))\n",
    "mnist = input_data.read_data_sets(\"../mnist_data\", one_hot=True)\n",
    "def mnist_train_datasets():\n",
    "    '''Train image datasets.\n",
    "        :params train_images: train images data list\n",
    "        :params train_num: number of train images \n",
    "        :params train_labels: train images label list\n",
    "        :params train_num: number of train images lable\n",
    "    '''\n",
    "    train_images = mnist.train.images\n",
    "    train_labels = mnist.train.labels\n",
    "    train_data_nums = mnist.train.num_examples \n",
    "    train_images_shape = train_images.shape\n",
    "    train_images_value = train_images[0]\n",
    "    train_images_value_shape = train_images_value.shape\n",
    "    train_images_label = train_labels[0]\n",
    "    train_images_label_shape = train_images_label.shape\n",
    "    print(\"type or image value: {}\".format(type(train_images_value)))\n",
    "    print(\"Train images numbers: {}\".format(train_data_nums))\n",
    "    print(\"Train images shape: {}\".format(train_images_shape))\n",
    "#     print(\"train images value: {}\".format(train_images_value))\n",
    "    print(\"Train images label: {}\".format(train_images_label))\n",
    "    print(\"Train images value shape: {}\".format(train_images_value_shape))\n",
    "    print(\"Train images label shape: {}\".format(train_images_label_shape))\n",
    "    \n",
    "def mnist_test_datasets():\n",
    "    '''Test image datasets.\n",
    "        :params test_images: test images data list\n",
    "        :params test_num: number of test images \n",
    "        :params test_labels: test images label list\n",
    "        :params test_num: number of test images lable\n",
    "    '''\n",
    "    test_images = mnist.test.images\n",
    "    test_labels = mnist.test.labels\n",
    "    test_data_nums = mnist.test.num_examples\n",
    "    test_images_shape = test_images.shape\n",
    "    test_images_value = test_images[0]\n",
    "    test_images_label = test_labels[0]\n",
    "    test_images_value_shape = test_images_value.shape\n",
    "    test_images_label_shape = test_images_label.shape\n",
    "    print(\"Test data numbers: {}\".format(test_data_nums))\n",
    "    print(\"Test images shape: {}\".format(test_images_shape))\n",
    "#     print(\"Test image value: {}\".format(test_images_value))\n",
    "    print(\"Test images label: {}\".format(test_images_label))\n",
    "    print(\"Test images value shape: {}\".format(test_images_value_shape))\n",
    "    print(\"Test images label shape: {}\".format(test_images_label_shape))\n",
    "\n",
    "mnist_train_datasets()\n",
    "mnist_test_datasets()\n"
   ]
  },
  {
   "cell_type": "code",
   "execution_count": 12,
   "metadata": {},
   "outputs": [
    {
     "name": "stdout",
     "output_type": "stream",
     "text": [
      "Extracting ../mnist_data/train-images-idx3-ubyte.gz\n",
      "Extracting ../mnist_data/train-labels-idx1-ubyte.gz\n",
      "Extracting ../mnist_data/t10k-images-idx3-ubyte.gz\n",
      "Extracting ../mnist_data/t10k-labels-idx1-ubyte.gz\n"
     ]
    },
    {
     "data": {
      "image/png": "[encoded data removed]",
      "text/plain": [
       "<Figure size 432x288 with 10 Axes>"
      ]
     },
     "metadata": {
      "needs_background": "light"
     },
     "output_type": "display_data"
    },
    {
     "name": "stdout",
     "output_type": "stream",
     "text": [
      "10 batch images: \n",
      " [[0. 0. 0. ... 0. 0. 0.]\n",
      " [0. 0. 0. ... 0. 0. 0.]\n",
      " [0. 0. 0. ... 0. 0. 0.]\n",
      " ...\n",
      " [0. 0. 0. ... 0. 0. 0.]\n",
      " [0. 0. 0. ... 0. 0. 0.]\n",
      " [0. 0. 0. ... 0. 0. 0.]]\n",
      "10 batch labels: \n",
      " [[0. 0. 0. 0. 0. 0. 0. 0. 0. 1.]\n",
      " [0. 1. 0. 0. 0. 0. 0. 0. 0. 0.]\n",
      " [0. 0. 0. 0. 0. 0. 0. 0. 1. 0.]\n",
      " [0. 0. 0. 0. 0. 0. 1. 0. 0. 0.]\n",
      " [0. 0. 1. 0. 0. 0. 0. 0. 0. 0.]\n",
      " [0. 0. 0. 0. 0. 0. 0. 0. 0. 1.]\n",
      " [0. 1. 0. 0. 0. 0. 0. 0. 0. 0.]\n",
      " [1. 0. 0. 0. 0. 0. 0. 0. 0. 0.]\n",
      " [0. 0. 0. 1. 0. 0. 0. 0. 0. 0.]\n",
      " [1. 0. 0. 0. 0. 0. 0. 0. 0. 0.]]\n"
     ]
    }
   ],
   "source": [
    "import tensorflow as tf\n",
    "tf.reset_default_graph()\n",
    "from tensorflow.examples.tutorials.mnist import input_data\n",
    "import matplotlib.pyplot as plt\n",
    "import numpy as np\n",
    "def _bytes_feature(value):\n",
    "    return tf.train.Feature(bytes_list=tf.train.BytesList(value=[value]))\n",
    "def _int64_feature(value):\n",
    "    return tf.train.Feature(int64_list=tf.train.Int64List(value=[value]))\n",
    "mnist = input_data.read_data_sets(\"../mnist_data\", one_hot=True)\n",
    "train_images, train_labels = mnist.train.next_batch(10)\n",
    "with tf.Session() as sess:\n",
    "    plt.figure()\n",
    "    for order, image in enumerate(train_images):\n",
    "        \n",
    "        plt.subplot(2,5, order+1).set_title(\"fig{}\".format(order+1))\n",
    "        image_reshape = tf.reshape(image, [28, 28, -1])\n",
    "        if image_reshape.dtype == tf.float32:\n",
    "            image_reshape = tf.image.convert_image_dtype(image_reshape, dtype=tf.uint8)\n",
    "        image_reshape = sess.run(image_reshape)\n",
    "#         print(\"image:{}\".format(image_reshape))\n",
    "        plt.imshow(image_reshape[:,:,0], cmap='Greys_r')\n",
    "    plt.show()\n",
    "\n",
    "print(\"10 batch images: \\n {}\".format(train_images))\n",
    "print(\"10 batch labels: \\n {}\".format(train_labels))"
   ]
  },
  {
   "cell_type": "markdown",
   "metadata": {},
   "source": [
    "## show image"
   ]
  },
  {
   "cell_type": "code",
   "execution_count": 58,
   "metadata": {},
   "outputs": [
    {
     "name": "stdout",
     "output_type": "stream",
     "text": [
      "Extracting ../mnist_data/train-images-idx3-ubyte.gz\n",
      "Extracting ../mnist_data/train-labels-idx1-ubyte.gz\n",
      "Extracting ../mnist_data/t10k-images-idx3-ubyte.gz\n",
      "Extracting ../mnist_data/t10k-labels-idx1-ubyte.gz\n",
      "type or image value: <class 'numpy.ndarray'>\n"
     ]
    },
    {
     "data": {
      "image/png": "[encoded data removed]",
      "text/plain": [
       "<Figure size 432x288 with 1 Axes>"
      ]
     },
     "metadata": {
      "needs_background": "light"
     },
     "output_type": "display_data"
    },
    {
     "name": "stdout",
     "output_type": "stream",
     "text": [
      "Train images numbers: 55000\n",
      "Train images shape: (55000, 784)\n",
      "Train images label: [0. 0. 0. 0. 0. 0. 0. 1. 0. 0.]\n"
     ]
    },
    {
     "data": {
      "image/png": "[encoded data removed]",
      "text/plain": [
       "<Figure size 432x288 with 1 Axes>"
      ]
     },
     "metadata": {
      "needs_background": "light"
     },
     "output_type": "display_data"
    },
    {
     "name": "stdout",
     "output_type": "stream",
     "text": [
      "Test data numbers: 10000\n",
      "Test images shape: (10000, 784)\n",
      "Test images label: [0. 0. 0. 0. 0. 0. 0. 1. 0. 0.]\n"
     ]
    },
    {
     "data": {
      "text/plain": [
       "<Figure size 432x288 with 0 Axes>"
      ]
     },
     "metadata": {},
     "output_type": "display_data"
    },
    {
     "data": {
      "image/png": "[encoded data removed]",
      "text/plain": [
       "<Figure size 288x288 with 1 Axes>"
      ]
     },
     "metadata": {
      "needs_background": "light"
     },
     "output_type": "display_data"
    }
   ],
   "source": [
    "import tensorflow as tf\n",
    "from sklearn.metrics import confusion_matrix\n",
    "tf.reset_default_graph()\n",
    "from tensorflow.examples.tutorials.mnist import input_data\n",
    "import matplotlib.pyplot as plt\n",
    "import numpy as np\n",
    "def _bytes_feature(value):\n",
    "    return tf.train.Feature(bytes_list=tf.train.BytesList(value=[value]))\n",
    "def _int64_feature(value):\n",
    "    return tf.train.Feature(int64_list=tf.train.Int64List(value=[value]))\n",
    "mnist = input_data.read_data_sets(\"../mnist_data\", one_hot=True)\n",
    "def mnist_train_datasets():\n",
    "    '''Train image datasets.\n",
    "        :params train_images: train images data list\n",
    "        :params train_num: number of train images \n",
    "        :params train_labels: train images label list\n",
    "        :params train_num: number of train images lable\n",
    "    '''\n",
    "    train_images = mnist.train.images\n",
    "    train_labels = mnist.train.labels\n",
    "    train_data_nums = mnist.train.num_examples \n",
    "    train_images_shape = train_images.shape\n",
    "    train_images_value = train_images[0]\n",
    "    print(\"type or image value: {}\".format(type(train_images_value)))\n",
    "    train_value = train_images_value.reshape((28, 28, -1))\n",
    "    plt.figure()\n",
    "    plt.imshow(train_value[:,:,0], cmap=\"Greys_r\")\n",
    "    plt.savefig(\"./images/mnist_train.png\", format=\"png\")\n",
    "    plt.show()\n",
    "    train_images_label = train_labels[0]\n",
    "    print(\"Train images numbers: {}\".format(train_data_nums))\n",
    "    print(\"Train images shape: {}\".format(train_images_shape))\n",
    "#     print(\"train images value: {}\".format(train_images_value))\n",
    "    print(\"Train images label: {}\".format(train_images_label))\n",
    "    return train_images_label\n",
    "    \n",
    "def mnist_test_datasets():\n",
    "    '''Test image datasets.\n",
    "        :params test_images: test images data list\n",
    "        :params test_num: number of test images \n",
    "        :params test_labels: test images label list\n",
    "        :params test_num: number of test images lable\n",
    "    '''\n",
    "    test_images = mnist.test.images\n",
    "    test_labels = mnist.test.labels\n",
    "    test_data_nums = mnist.test.num_examples\n",
    "    test_images_shape = test_images.shape\n",
    "    test_images_value = test_images[0]\n",
    "    test_images_label = test_labels[0]\n",
    "    test_value = test_images_value.reshape((28, 28, -1))\n",
    "    plt.figure()\n",
    "#     plt.imshow(test_value[:,:,0], cmap=\"Greys_r\")\n",
    "    plt.imshow(test_value[:,:,0])\n",
    "    plt.savefig(\"./images/mnist_test.png\", format=\"png\")\n",
    "    plt.show()\n",
    "    \n",
    "    print(\"Test data numbers: {}\".format(test_data_nums))\n",
    "    print(\"Test images shape: {}\".format(test_images_shape))\n",
    "#     print(\"Test image value: {}\".format(test_images_value))\n",
    "    print(\"Test images label: {}\".format(test_images_label))\n",
    "    return test_images_label\n",
    "\n",
    "\n",
    "train_label = mnist_train_datasets()\n",
    "test_label = mnist_test_datasets()\n",
    "conf_mx = confusion_matrix(train_label, test_label)\n",
    "plt.figure()\n",
    "plt.matshow(conf_mx, cmap=plt.cm.gray)\n",
    "plt.show()"
   ]
  },
  {
   "cell_type": "markdown",
   "metadata": {},
   "source": [
    "## confusion matrix show"
   ]
  },
  {
   "cell_type": "code",
   "execution_count": 57,
   "metadata": {},
   "outputs": [
    {
     "name": "stdout",
     "output_type": "stream",
     "text": [
      "Extracting ../mnist_data/train-images-idx3-ubyte.gz\n",
      "Extracting ../mnist_data/train-labels-idx1-ubyte.gz\n",
      "Extracting ../mnist_data/t10k-images-idx3-ubyte.gz\n",
      "Extracting ../mnist_data/t10k-labels-idx1-ubyte.gz\n",
      "type or image value: <class 'numpy.ndarray'>\n"
     ]
    },
    {
     "data": {
      "image/png": "[encoded data removed]",
      "text/plain": [
       "<Figure size 432x288 with 1 Axes>"
      ]
     },
     "metadata": {
      "needs_background": "light"
     },
     "output_type": "display_data"
    },
    {
     "name": "stdout",
     "output_type": "stream",
     "text": [
      "Train images numbers: 55000\n",
      "Train images shape: (55000, 784)\n",
      "Train images label: [0. 0. 0. 0. 0. 0. 0. 1. 0. 0.]\n"
     ]
    },
    {
     "data": {
      "image/png": "[encoded data removed]",
      "text/plain": [
       "<Figure size 432x288 with 1 Axes>"
      ]
     },
     "metadata": {
      "needs_background": "light"
     },
     "output_type": "display_data"
    },
    {
     "name": "stdout",
     "output_type": "stream",
     "text": [
      "Test data numbers: 10000\n",
      "Test images shape: (10000, 784)\n",
      "Test images label: [0. 0. 0. 0. 0. 0. 0. 1. 0. 0.]\n",
      "confusion matrix: [[9 0]\n",
      " [0 1]]\n"
     ]
    },
    {
     "data": {
      "text/plain": [
       "<Figure size 432x288 with 0 Axes>"
      ]
     },
     "metadata": {},
     "output_type": "display_data"
    },
    {
     "data": {
      "image/png": "[encoded data removed]",
      "text/plain": [
       "<Figure size 288x288 with 1 Axes>"
      ]
     },
     "metadata": {
      "needs_background": "light"
     },
     "output_type": "display_data"
    }
   ],
   "source": [
    "##　import tensorflow as tf\n",
    "from sklearn.metrics import confusion_matrix\n",
    "tf.reset_default_graph()\n",
    "from tensorflow.examples.tutorials.mnist import input_data\n",
    "import matplotlib.pyplot as plt\n",
    "import numpy as np\n",
    "def _bytes_feature(value):\n",
    "    return tf.train.Feature(bytes_list=tf.train.BytesList(value=[value]))\n",
    "def _int64_feature(value):\n",
    "    return tf.train.Feature(int64_list=tf.train.Int64List(value=[value]))\n",
    "mnist = input_data.read_data_sets(\"../mnist_data\", one_hot=True)\n",
    "def mnist_train_datasets():\n",
    "    '''Train image datasets.\n",
    "        :params train_images: train images data list\n",
    "        :params train_num: number of train images \n",
    "        :params train_labels: train images label list\n",
    "        :params train_num: number of train images lable\n",
    "    '''\n",
    "    train_images = mnist.train.images\n",
    "    train_labels = mnist.train.labels\n",
    "    train_data_nums = mnist.train.num_examples \n",
    "    train_images_shape = train_images.shape\n",
    "    train_images_value = train_images[0]\n",
    "    print(\"type or image value: {}\".format(type(train_images_value)))\n",
    "    train_value = train_images_value.reshape((28, 28, -1))\n",
    "    plt.figure()\n",
    "    plt.imshow(train_value[:,:,0], cmap=\"Greys_r\")\n",
    "    plt.show()\n",
    "    train_images_label = train_labels[0]\n",
    "    print(\"Train images numbers: {}\".format(train_data_nums))\n",
    "    print(\"Train images shape: {}\".format(train_images_shape))\n",
    "#     print(\"train images value: {}\".format(train_images_value))\n",
    "    print(\"Train images label: {}\".format(train_images_label))\n",
    "    return train_images_label\n",
    "    \n",
    "def mnist_test_datasets():\n",
    "    '''Test image datasets.\n",
    "        :params test_images: test images data list\n",
    "        :params test_num: number of test images \n",
    "        :params test_labels: test images label list\n",
    "        :params test_num: number of test images lable\n",
    "    '''\n",
    "    test_images = mnist.test.images\n",
    "    test_labels = mnist.test.labels\n",
    "    test_data_nums = mnist.test.num_examples\n",
    "    test_images_shape = test_images.shape\n",
    "    test_images_value = test_images[0]\n",
    "    test_images_label = test_labels[0]\n",
    "    test_value = test_images_value.reshape((28, 28, -1))\n",
    "    plt.figure()\n",
    "#     plt.imshow(test_value[:,:,0], cmap=\"Greys_r\")\n",
    "    plt.imshow(test_value[:,:,0])\n",
    "    plt.show()\n",
    "    print(\"Test data numbers: {}\".format(test_data_nums))\n",
    "    print(\"Test images shape: {}\".format(test_images_shape))\n",
    "#     print(\"Test image value: {}\".format(test_images_value))\n",
    "    print(\"Test images label: {}\".format(test_images_label))\n",
    "    return test_images_label\n",
    "\n",
    "\n",
    "train_label = mnist_train_datasets()\n",
    "test_label = mnist_test_datasets()\n",
    "conf_mx = confusion_matrix(train_label, test_label)\n",
    "print(\"confusion matrix: {}\".format(conf_mx))\n",
    "plt.figure()\n",
    "plt.matshow(conf_mx, cmap=plt.cm.gray)\n",
    "plt.savefig(\"./images/cofusion_image1.png\", format=\"png\")\n",
    "plt.show() "
   ]
  },
  {
   "cell_type": "markdown",
   "metadata": {},
   "source": [
    "## multi confusion matrix"
   ]
  },
  {
   "cell_type": "code",
   "execution_count": 50,
   "metadata": {},
   "outputs": [
    {
     "name": "stdout",
     "output_type": "stream",
     "text": [
      "Extracting ../mnist_data/train-images-idx3-ubyte.gz\n",
      "Extracting ../mnist_data/train-labels-idx1-ubyte.gz\n",
      "Extracting ../mnist_data/t10k-images-idx3-ubyte.gz\n",
      "Extracting ../mnist_data/t10k-labels-idx1-ubyte.gz\n",
      "train images: [[0. 0. 0. ... 0. 0. 0.]\n",
      " [0. 0. 0. ... 0. 0. 0.]\n",
      " [0. 0. 0. ... 0. 0. 0.]\n",
      " ...\n",
      " [0. 0. 0. ... 0. 0. 0.]\n",
      " [0. 0. 0. ... 0. 0. 0.]\n",
      " [0. 0. 0. ... 0. 0. 0.]]\n",
      "type of train images: <class 'numpy.ndarray'>\n"
     ]
    },
    {
     "data": {
      "image/png": "[encoded data removed]",
      "text/plain": [
       "<Figure size 432x288 with 1 Axes>"
      ]
     },
     "metadata": {
      "needs_background": "light"
     },
     "output_type": "display_data"
    },
    {
     "name": "stdout",
     "output_type": "stream",
     "text": [
      "train images labels: [[0. 0. 1. 0. 0. 0. 0. 0. 0. 0.]\n",
      " [1. 0. 0. 0. 0. 0. 0. 0. 0. 0.]\n",
      " [1. 0. 0. 0. 0. 0. 0. 0. 0. 0.]\n",
      " [0. 0. 0. 0. 0. 0. 0. 1. 0. 0.]\n",
      " [0. 0. 0. 0. 0. 0. 0. 1. 0. 0.]\n",
      " [0. 0. 0. 0. 0. 0. 1. 0. 0. 0.]\n",
      " [0. 0. 0. 0. 0. 0. 0. 0. 1. 0.]\n",
      " [0. 0. 0. 0. 0. 0. 0. 0. 0. 1.]\n",
      " [0. 0. 0. 0. 1. 0. 0. 0. 0. 0.]\n",
      " [1. 0. 0. 0. 0. 0. 0. 0. 0. 0.]]\n"
     ]
    },
    {
     "data": {
      "image/png": "[encoded data removed]",
      "text/plain": [
       "<Figure size 432x288 with 1 Axes>"
      ]
     },
     "metadata": {
      "needs_background": "light"
     },
     "output_type": "display_data"
    },
    {
     "name": "stdout",
     "output_type": "stream",
     "text": [
      "test images labels: [[0. 0. 1. 0. 0. 0. 0. 0. 0. 0.]\n",
      " [1. 0. 0. 0. 0. 0. 0. 0. 0. 0.]\n",
      " [0. 0. 0. 0. 0. 1. 0. 0. 0. 0.]\n",
      " [1. 0. 0. 0. 0. 0. 0. 0. 0. 0.]\n",
      " [0. 0. 0. 0. 1. 0. 0. 0. 0. 0.]\n",
      " [0. 0. 0. 0. 0. 0. 0. 0. 1. 0.]\n",
      " [0. 0. 0. 0. 0. 1. 0. 0. 0. 0.]\n",
      " [0. 0. 0. 0. 0. 0. 0. 0. 0. 1.]\n",
      " [0. 0. 0. 0. 0. 1. 0. 0. 0. 0.]\n",
      " [0. 0. 1. 0. 0. 0. 0. 0. 0. 0.]]\n"
     ]
    },
    {
     "data": {
      "text/plain": [
       "<Figure size 432x288 with 0 Axes>"
      ]
     },
     "metadata": {},
     "output_type": "display_data"
    },
    {
     "data": {
      "image/png": "[encoded data removed]",
      "text/plain": [
       "<Figure size 288x288 with 1 Axes>"
      ]
     },
     "metadata": {
      "needs_background": "light"
     },
     "output_type": "display_data"
    }
   ],
   "source": [
    "import tensorflow as tf\n",
    "from sklearn.metrics import confusion_matrix\n",
    "tf.reset_default_graph()\n",
    "from tensorflow.examples.tutorials.mnist import input_data\n",
    "import matplotlib.pyplot as plt\n",
    "import numpy as np\n",
    "def _bytes_feature(value):\n",
    "    return tf.train.Feature(bytes_list=tf.train.BytesList(value=[value]))\n",
    "def _int64_feature(value):\n",
    "    return tf.train.Feature(int64_list=tf.train.Int64List(value=[value]))\n",
    "mnist = input_data.read_data_sets(\"../mnist_data\", one_hot=True)\n",
    "def mnist_train_datasets(sess):\n",
    "    train_images, train_labels = mnist.train.next_batch(10)\n",
    "    print(\"train images: {}\".format(train_images))\n",
    "    print(\"type of train images: {}\".format(type(train_images)))\n",
    "    image_reshape = tf.reshape(train_images[0], [28, 28, -1])\n",
    "    image_value = sess.run(image_reshape)\n",
    "    plt.figure()\n",
    "    plt.imshow(image_value[:, :, 0], cmap=\"Greys_r\")\n",
    "    plt.show()\n",
    "    \n",
    "#     print(\"type or image value: {}\".format(type(train_images_value)))\n",
    "#     train_value = train_images_value.reshape((28, 28, -1))\n",
    "#     plt.figure()\n",
    "#     plt.imshow(train_value[:,:,0], cmap=\"Greys_r\")\n",
    "#     plt.show()\n",
    "#     train_images_label = train_labels[0]\n",
    "#     print(\"Train images numbers: {}\".format(train_data_nums))\n",
    "#     print(\"Train images shape: {}\".format(train_images_shape))\n",
    "#     print(\"train images value: {}\".format(train_images_value))\n",
    "#     print(\"Train images label: {}\".format(train_images_label))\n",
    "    return train_labels   \n",
    "def mnist_test_datasets(sess):\n",
    "    test_images, test_labels = mnist.test.next_batch(10)\n",
    "    test_value = tf.reshape(test_images[0], (28, 28, -1))\n",
    "    test_value = sess.run(test_value)\n",
    "    plt.figure()\n",
    "    plt.imshow(test_value[:,:,0], cmap=\"Greys_r\")\n",
    "    plt.show()\n",
    "    return test_labels\n",
    "with tf.Session() as sess:\n",
    "    train_labels = mnist_train_datasets(sess)\n",
    "    print(\"train images labels: {}\".format(train_labels))\n",
    "    test_labels = mnist_test_datasets(sess)\n",
    "    print(\"test images labels: {}\".format(test_labels))\n",
    "#     conf_mx = confusion_matrix(train_labels, test_labels)\n",
    "    plt.figure()\n",
    "    plt.matshow(train_labels, cmap=plt.cm.gray)\n",
    "#     plt.matshow(conf_mx, cmap=plt.cm.gray)\n",
    "#     plt.savefig(\"./images/cofusion_image1.png\", format=\"png\")\n",
    "    plt.show() "
   ]
  },
  {
   "cell_type": "code",
   "execution_count": 56,
   "metadata": {},
   "outputs": [
    {
     "name": "stdout",
     "output_type": "stream",
     "text": [
      "a: (3,)\n",
      "b: [[1]\n",
      " [2]\n",
      " [3]]\n"
     ]
    }
   ],
   "source": [
    "import numpy as np\n",
    "a = np.array([0, 1, 2])\n",
    "print(\"a: {}\".format(a.shape))\n",
    "b = np.array([[1],[2], [3]])\n",
    "print(\"b: {}\".format(b))"
   ]
  },
  {
   "cell_type": "code",
   "execution_count": 64,
   "metadata": {},
   "outputs": [
    {
     "name": "stdout",
     "output_type": "stream",
     "text": [
      "a shape: (1, 5)\n",
      "a value: Tensor(\"ExpandDims:0\", shape=(1, 5), dtype=int64)\n",
      "max value: [4]\n"
     ]
    }
   ],
   "source": [
    "import tensorflow as tf\n",
    "tf.reset_default_graph()\n",
    "import numpy as np\n",
    "a = np.array([1, 2, 3, 4, 5])\n",
    "a = tf.expand_dims(a, [0])\n",
    "print(\"a shape: {}\".format(a.shape))\n",
    "print(\"a value: {}\".format(a))\n",
    "max_value = tf.argmax(a, 1)\n",
    "with tf.Session() as sess:\n",
    "    max_value = sess.run(max_value)\n",
    "    print(\"max value: {}\".format(max_value))"
   ]
  },
  {
   "cell_type": "code",
   "execution_count": null,
   "metadata": {},
   "outputs": [],
   "source": []
  }
 ],
 "metadata": {
  "kernelspec": {
   "display_name": "Python 3",
   "language": "python",
   "name": "python3"
  },
  "language_info": {
   "codemirror_mode": {
    "name": "ipython",
    "version": 3
   },
   "file_extension": ".py",
   "mimetype": "text/x-python",
   "name": "python",
   "nbconvert_exporter": "python",
   "pygments_lexer": "ipython3",
   "version": "3.6.8"
  }
 },
 "nbformat": 4,
 "nbformat_minor": 2
}
