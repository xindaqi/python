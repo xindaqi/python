{
 "cells": [
  {
   "cell_type": "markdown",
   "metadata": {},
   "source": [
    "## uploaded or saved file auto nubmer"
   ]
  },
  {
   "cell_type": "code",
   "execution_count": null,
   "metadata": {},
   "outputs": [],
   "source": [
    "'''auto number'''\n",
    "def auto_number(dir_path):\n",
    "    image_nums = os.listdir(dir_path)\n",
    "    numbers = []\n",
    "    if image_nums:\n",
    "        for image_num in image_nums:\n",
    "            number, _ = os.path.splitext(image_num)\n",
    "            numbers.append(int(number))\n",
    "        max_number = max([x for x in numbers])\n",
    "    else:\n",
    "        max_number = 0\n",
    "\n",
    "    return max_number"
   ]
  }
 ],
 "metadata": {
  "kernelspec": {
   "display_name": "Python 3",
   "language": "python",
   "name": "python3"
  },
  "language_info": {
   "codemirror_mode": {
    "name": "ipython",
    "version": 3
   },
   "file_extension": ".py",
   "mimetype": "text/x-python",
   "name": "python",
   "nbconvert_exporter": "python",
   "pygments_lexer": "ipython3",
   "version": "3.6.7"
  }
 },
 "nbformat": 4,
 "nbformat_minor": 2
}
