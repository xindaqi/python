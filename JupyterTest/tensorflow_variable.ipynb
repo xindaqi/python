{
 "cells": [
  {
   "cell_type": "markdown",
   "metadata": {},
   "source": [
    "## create variable"
   ]
  },
  {
   "cell_type": "code",
   "execution_count": 17,
   "metadata": {},
   "outputs": [
    {
     "name": "stdout",
     "output_type": "stream",
     "text": [
      "variable value: 250\n",
      "variable value: 250\n"
     ]
    }
   ],
   "source": [
    "import tensorflow as tf\n",
    "\n",
    "v1 = tf.Variable(250, name=\"v_1\")\n",
    "\n",
    "with tf.Session() as sess:\n",
    "    init_op =  tf.global_variables_initializer()\n",
    "    sess.run(init_op)\n",
    "    print(\"variable value: {}\".format(v1.eval()))\n",
    "    print(\"variable value: {}\".format(sess.run(v1)))"
   ]
  },
  {
   "cell_type": "markdown",
   "metadata": {},
   "source": [
    "## default graph one"
   ]
  },
  {
   "cell_type": "code",
   "execution_count": 22,
   "metadata": {},
   "outputs": [
    {
     "name": "stdout",
     "output_type": "stream",
     "text": [
      "variable value: [250]\n"
     ]
    }
   ],
   "source": [
    "import tensorflow as tf\n",
    "tf.reset_default_graph()\n",
    "\n",
    "v1 = tf.Variable([250], name=\"v_1\")\n",
    "\n",
    "sess = tf.Session()\n",
    "init_op =  tf.global_variables_initializer()\n",
    "sess.run(init_op)\n",
    "# print(\"variable value: {}\".format(sess(v1.eval())))\n",
    "print(\"variable value: {}\".format(sess.run(v1)))\n",
    "sess.close()"
   ]
  },
  {
   "cell_type": "markdown",
   "metadata": {},
   "source": [
    "## variable in new graph"
   ]
  },
  {
   "cell_type": "code",
   "execution_count": 8,
   "metadata": {},
   "outputs": [
    {
     "name": "stdout",
     "output_type": "stream",
     "text": [
      "tf.Variable test.\n",
      "variable tensor: <tf.Variable 'v_1:0' shape=(1,) dtype=int32_ref>\n",
      "variable name: v_1:0\n",
      "variable value: [250]\n",
      "variable value: [250]\n",
      "variable outputs: name: \"v_1\"\n",
      "op: \"VariableV2\"\n",
      "attr {\n",
      "  key: \"container\"\n",
      "  value {\n",
      "    s: \"\"\n",
      "  }\n",
      "}\n",
      "attr {\n",
      "  key: \"dtype\"\n",
      "  value {\n",
      "    type: DT_INT32\n",
      "  }\n",
      "}\n",
      "attr {\n",
      "  key: \"shape\"\n",
      "  value {\n",
      "    shape {\n",
      "      dim {\n",
      "        size: 1\n",
      "      }\n",
      "    }\n",
      "  }\n",
      "}\n",
      "attr {\n",
      "  key: \"shared_name\"\n",
      "  value {\n",
      "    s: \"\"\n",
      "  }\n",
      "}\n",
      "\n",
      "variable outputs: [<tf.Tensor 'v_1:0' shape=(1,) dtype=int32_ref>]\n",
      "variable outputs value: Tensor(\"v_1:0\", shape=(1,), dtype=int32_ref)\n",
      "tf.get_variable test.\n",
      "get variable tensor: <tf.Variable 'v1:0' shape=(1,) dtype=float32_ref>\n",
      "get variable name: v1:0\n",
      "get variable value: [-0.75479484]\n",
      "get variable value: [-0.75479484]\n"
     ]
    }
   ],
   "source": [
    "import tensorflow as tf\n",
    "tf.reset_default_graph()\n",
    "# 新建图\n",
    "g = tf.Graph()\n",
    "# 新图作为默认的图,构建图结构\n",
    "\n",
    "with g.as_default():\n",
    "    v1 = tf.Variable([250], name=\"v_1\")\n",
    "    v2 = tf.Variable(250, name=\"v_2\")\n",
    "    v3 = tf.get_variable(\"v1\", [1])\n",
    "\n",
    "with tf.Session(graph=g) as sess:\n",
    "    # 初始化变量\n",
    "    init_op = tf.global_variables_initializer()\n",
    "    sess.run(init_op)\n",
    "    g = tf.get_default_graph()\n",
    "    '''tf.Variable test.'''\n",
    "    print(\"tf.Variable test.\")\n",
    "    print(\"variable tensor: {}\".format(v1))\n",
    "    print(\"variable name: {}\".format(v1.name))\n",
    "    print(\"variable value: {}\".format(sess.run(v1)))\n",
    "    print(\"variable value: {}\".format(sess.run(g.get_tensor_by_name(\"v_1:0\"))))\n",
    "    print(\"variable outputs: {}\".format(g.get_operation_by_name(\"v_1\")))\n",
    "    print(\"variable outputs: {}\".format(g.get_operation_by_name(\"v_1\").outputs))\n",
    "    print(\"variable outputs value: {}\".format(g.get_operation_by_name(\"v_1\").outputs[0]))\n",
    "    '''tf.get_variable test.'''\n",
    "    print(\"tf.get_variable test.\")\n",
    "    print(\"get variable tensor: {}\".format(v3))\n",
    "    print(\"get variable name: {}\".format(v3.name))\n",
    "    print(\"get variable value: {}\".format(v3.eval()))\n",
    "    print(\"get variable value: {}\".format(sess.run(v3)))"
   ]
  },
  {
   "cell_type": "markdown",
   "metadata": {},
   "source": [
    "## variable_scope"
   ]
  },
  {
   "cell_type": "code",
   "execution_count": 16,
   "metadata": {},
   "outputs": [
    {
     "name": "stdout",
     "output_type": "stream",
     "text": [
      "variable v1 name: foo/v_1:0\n",
      "variavle v1 value: [0.15584934]\n",
      "variable v1 value: [0.15584934]\n",
      "varialbe v2 name: foo/v_2:0\n",
      "variable v2 value: [250]\n"
     ]
    }
   ],
   "source": [
    "import tensorflow as tf\n",
    "tf.reset_default_graph()\n",
    "\n",
    "with tf.variable_scope(\"foo\"):\n",
    "    v1 = tf.get_variable(\"v_1\", [1])\n",
    "    v2 = tf.Variable([250], name=\"v_2\")\n",
    "    with tf.Session() as sess:\n",
    "        init_op = tf.global_variables_initializer()\n",
    "        sess.run(init_op)\n",
    "        print(\"variable v1 name: {}\".format(v1.name))\n",
    "        print(\"variavle v1 value: {}\".format(v1.eval()))\n",
    "        print(\"variable v1 value: {}\".format(sess.run(v1)))\n",
    "        print(\"varialbe v2 name: {}\".format(v2.name))\n",
    "        print(\"variable v2 value: {}\".format(v2.eval()))\n",
    "        "
   ]
  },
  {
   "cell_type": "markdown",
   "metadata": {},
   "source": [
    "## name_scope"
   ]
  },
  {
   "cell_type": "code",
   "execution_count": 48,
   "metadata": {},
   "outputs": [
    {
     "name": "stdout",
     "output_type": "stream",
     "text": [
      "v1 name: v_1:0\n",
      "v1 name: foo/v_1:0\n",
      "v2 name: v_2:0\n",
      "v3 name: foo/Variable:0\n"
     ]
    }
   ],
   "source": [
    "import tensorflow as tf\n",
    "tf.reset_default_graph()\n",
    "v1 = tf.Variable([250], name=\"v_1\")\n",
    "print(\"v1 name: {}\".format(v1.name))\n",
    "with tf.name_scope(\"foo\"):\n",
    "    v1 = tf.Variable([250], name=\"v_1\")\n",
    "    v2 = tf.get_variable(\"v_2\", [1])\n",
    "    v3 = tf.Variable([250])\n",
    "    print(\"v1 name: {}\".format(v1.name))\n",
    "    print(\"v2 name: {}\".format(v2.name))\n",
    "    print(\"v3 name: {}\".format(v3.name))"
   ]
  },
  {
   "cell_type": "markdown",
   "metadata": {},
   "source": [
    "## varaible_scope and name_scope"
   ]
  },
  {
   "cell_type": "code",
   "execution_count": 94,
   "metadata": {},
   "outputs": [
    {
     "name": "stdout",
     "output_type": "stream",
     "text": [
      "v2 name: foo/v_2:0\n",
      "v2 tensor: Tensor(\"foo/v_2:0\", shape=(1,), dtype=float32_ref)\n",
      "v2 value in foo: [250.]\n",
      "-----------\n",
      "v4 name: foo/v_2:0\n",
      "v4 value in foo: [250.]\n"
     ]
    }
   ],
   "source": [
    "import tensorflow as tf\n",
    "tf.reset_default_graph()\n",
    "with tf.variable_scope(\"foo\"):\n",
    "    v1 = tf.Variable([250], name=\"v_1\")\n",
    "    v2 = tf.get_variable(\"v_2\", initializer=[250.0], dtype=tf.float32)\n",
    "with tf.variable_scope(\"foo\", reuse=tf.AUTO_REUSE):\n",
    "    v3 = tf.Variable([250], name=\"v_1\")\n",
    "    v4 = tf.get_variable(\"v_2\", dtype=tf.float32)\n",
    "with tf.Session() as sess:\n",
    "    init_op = tf.global_variables_initializer()\n",
    "    sess.run(init_op)\n",
    "    g1 = tf.get_default_graph()\n",
    "    v2_name = v2.name\n",
    "    v2_tensor_1 = g1.get_tensor_by_name(\"foo/v_2:0\")\n",
    "    v2_value = sess.run(v2_tensor_1)\n",
    "    print(\"v2 name: {}\".format(v2_name))\n",
    "    print(\"v2 tensor: {}\".format(v2_tensor_1))\n",
    "    print(\"v2 value in foo: {}\".format(v2_value))\n",
    "    print(\"-----------\")\n",
    "    v4_name = v4.name\n",
    "    v2_value = sess.run(v4)\n",
    "    print(\"v4 name: {}\".format(v4_name))\n",
    "    print(\"v4 value in foo: {}\".format(v2_value))\n",
    "    \n",
    "    \n"
   ]
  },
  {
   "cell_type": "markdown",
   "metadata": {},
   "source": [
    "## multi name_scope"
   ]
  },
  {
   "cell_type": "code",
   "execution_count": 60,
   "metadata": {},
   "outputs": [
    {
     "name": "stdout",
     "output_type": "stream",
     "text": [
      "w1 name: w_1:0\n",
      "a name: w_1:0\n",
      "--------------------\n",
      "w1 operation: name: \"w_1\"\n",
      "op: \"VariableV2\"\n",
      "attr {\n",
      "  key: \"container\"\n",
      "  value {\n",
      "    s: \"\"\n",
      "  }\n",
      "}\n",
      "attr {\n",
      "  key: \"dtype\"\n",
      "  value {\n",
      "    type: DT_FLOAT\n",
      "  }\n",
      "}\n",
      "attr {\n",
      "  key: \"shape\"\n",
      "  value {\n",
      "    shape {\n",
      "      dim {\n",
      "        size: 1\n",
      "      }\n",
      "    }\n",
      "  }\n",
      "}\n",
      "attr {\n",
      "  key: \"shared_name\"\n",
      "  value {\n",
      "    s: \"\"\n",
      "  }\n",
      "}\n",
      "\n"
     ]
    }
   ],
   "source": [
    "import tensorflow as tf\n",
    "tf.reset_default_graph()\n",
    "\n",
    "with tf.name_scope(\"conv_1\"):\n",
    "    w1 = tf.get_variable(\"w_1\", initializer=[250.0], dtype=tf.float32)\n",
    "    b1 = tf.get_variable(\"b_1\", initializer=[250.0], dtype=tf.float32)\n",
    "    print(\"w1 name: {}\".format(w1.name))\n",
    "    \n",
    "with tf.name_scope(\"conv_2\"):\n",
    "    w2 = tf.get_variable(\"w_2\", initializer=[250.0], dtype=tf.float32)\n",
    "    b2 = tf.get_variable(\"b_2\", initializer=[250.0], dtype=tf.float32)\n",
    "with tf.Session() as sess:\n",
    "    init_op = tf.global_variables_initializer()\n",
    "    sess.run(init_op)\n",
    "    a = w1.name\n",
    "    b = w2.name\n",
    "    print(\"a name: {}\".format(a))\n",
    "    print(\"--------------------\")\n",
    "    g = tf.get_default_graph()\n",
    "    w1_operation = g.get_operation_by_name(\"w_1\")\n",
    "    print(\"w1 operation: {}\".format(w1_operation))"
   ]
  },
  {
   "cell_type": "markdown",
   "metadata": {},
   "source": [
    "## multi variable_scope"
   ]
  },
  {
   "cell_type": "code",
   "execution_count": 73,
   "metadata": {},
   "outputs": [
    {
     "name": "stdout",
     "output_type": "stream",
     "text": [
      "w1 name: conv_1/w_1:0\n",
      "w1 direct outputs: <tf.Variable 'conv_1/w_1:0' shape=(1,) dtype=float32_ref>\n",
      "w1 operation: name: \"conv_1/w_1\"\n",
      "op: \"VariableV2\"\n",
      "attr {\n",
      "  key: \"container\"\n",
      "  value {\n",
      "    s: \"\"\n",
      "  }\n",
      "}\n",
      "attr {\n",
      "  key: \"dtype\"\n",
      "  value {\n",
      "    type: DT_FLOAT\n",
      "  }\n",
      "}\n",
      "attr {\n",
      "  key: \"shape\"\n",
      "  value {\n",
      "    shape {\n",
      "      dim {\n",
      "        size: 1\n",
      "      }\n",
      "    }\n",
      "  }\n",
      "}\n",
      "attr {\n",
      "  key: \"shared_name\"\n",
      "  value {\n",
      "    s: \"\"\n",
      "  }\n",
      "}\n",
      "\n",
      "w1 tensor: Tensor(\"conv_1/w_1:0\", shape=(1,), dtype=float32_ref)\n",
      "------------\n",
      "w3 direct outputs: <tf.Variable 'conv_3/w_3:0' shape=(1,) dtype=float32_ref>\n",
      "w3 name: conv_3/w_3:0\n",
      "w3 operation: name: \"conv_3/w_3\"\n",
      "op: \"VariableV2\"\n",
      "attr {\n",
      "  key: \"container\"\n",
      "  value {\n",
      "    s: \"\"\n",
      "  }\n",
      "}\n",
      "attr {\n",
      "  key: \"dtype\"\n",
      "  value {\n",
      "    type: DT_FLOAT\n",
      "  }\n",
      "}\n",
      "attr {\n",
      "  key: \"shape\"\n",
      "  value {\n",
      "    shape {\n",
      "      dim {\n",
      "        size: 1\n",
      "      }\n",
      "    }\n",
      "  }\n",
      "}\n",
      "attr {\n",
      "  key: \"shared_name\"\n",
      "  value {\n",
      "    s: \"\"\n",
      "  }\n",
      "}\n",
      "\n",
      "w3 outputs: [<tf.Tensor 'conv_3/w_3:0' shape=(1,) dtype=float32_ref>]\n",
      "w3 outputs value: Tensor(\"conv_3/w_3:0\", shape=(1,), dtype=float32_ref)\n",
      "w3 tensor: Tensor(\"conv_3/w_3:0\", shape=(1,), dtype=float32_ref)\n",
      "w3 value by operation: [250.]\n",
      "w3 value by tensor: [250.]\n"
     ]
    }
   ],
   "source": [
    "import tensorflow as tf\n",
    "tf.reset_default_graph()\n",
    "\n",
    "with tf.variable_scope(\"conv_1\"):\n",
    "    w1 = tf.get_variable(\"w_1\", initializer=[250.0], dtype=tf.float32)\n",
    "    b1 = tf.get_variable(\"b_1\", initializer=[250.0], dtype=tf.float32)\n",
    "    print(\"w1 name: {}\".format(w1.name))\n",
    "    \n",
    "with tf.variable_scope(\"conv_2\"):\n",
    "    w2 = tf.get_variable(\"w_2\", initializer=[250.0], dtype=tf.float32)\n",
    "    b2 = tf.get_variable(\"b_2\", initializer=[250.0], dtype=tf.float32)\n",
    "with tf.variable_scope(\"conv_3\"):\n",
    "    w3 = tf.Variable([250.0], name=\"w_3\")\n",
    "    b3 = tf.Variable([250.0], name=\"b_3\")\n",
    "with tf.Session() as sess:\n",
    "    init_op = tf.global_variables_initializer()\n",
    "    sess.run(init_op)\n",
    "    a = w1.name\n",
    "    b = w2.name\n",
    "    g = tf.get_default_graph()\n",
    "    w1_direct_output = w1\n",
    "    \n",
    "    w1_operation = g.get_operation_by_name(\"conv_1/w_1\")\n",
    "    w1_tensor = g.get_tensor_by_name(\"conv_1/w_1:0\")\n",
    "    print(\"w1 direct outputs: {}\".format(w1_direct_output))\n",
    "    print(\"w1 operation: {}\".format(w1_operation))\n",
    "    print(\"w1 tensor: {}\".format(w1_value))\n",
    "    print(\"------------\")\n",
    "    w3_direct_output = w3\n",
    "    w3_name = w3.name\n",
    "    w3_operation = g.get_operation_by_name(\"conv_3/w_3\")\n",
    "    w3_outputs = g.get_operation_by_name(\"conv_3/w_3\").outputs\n",
    "    w3_outputs_value = g.get_operation_by_name(\"conv_3/w_3\").outputs[0]\n",
    "    w3_tensor = g.get_tensor_by_name(\"conv_3/w_3:0\")\n",
    "    w3_value_by_operation = sess.run(w3_outputs_value)\n",
    "    w3_value_by_tensor = sess.run(w3_tensor)\n",
    "    print(\"w3 direct outputs: {}\".format(w3_direct_output))\n",
    "    print(\"w3 name: {}\".format(w3_name))\n",
    "    print(\"w3 operation: {}\".format(w3_operation))\n",
    "    print(\"w3 outputs: {}\".format(w3_outputs))\n",
    "    print(\"w3 outputs value: {}\".format(w3_outputs_value))\n",
    "    print(\"w3 tensor: {}\".format(w3_tensor))\n",
    "    print(\"w3 value by operation: {}\".format(w3_value_by_operation))\n",
    "    print(\"w3 value by tensor: {}\".format(w3_value_by_tensor))"
   ]
  },
  {
   "cell_type": "code",
   "execution_count": null,
   "metadata": {},
   "outputs": [],
   "source": []
  }
 ],
 "metadata": {
  "kernelspec": {
   "display_name": "Python 3",
   "language": "python",
   "name": "python3"
  },
  "language_info": {
   "codemirror_mode": {
    "name": "ipython",
    "version": 3
   },
   "file_extension": ".py",
   "mimetype": "text/x-python",
   "name": "python",
   "nbconvert_exporter": "python",
   "pygments_lexer": "ipython3",
   "version": "3.6.7"
  }
 },
 "nbformat": 4,
 "nbformat_minor": 2
}
