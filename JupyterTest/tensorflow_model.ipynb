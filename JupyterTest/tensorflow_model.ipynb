{
 "cells": [
  {
   "cell_type": "markdown",
   "metadata": {},
   "source": [
    "## tensorflow variable test"
   ]
  },
  {
   "cell_type": "code",
   "execution_count": 18,
   "metadata": {},
   "outputs": [
    {
     "name": "stdout",
     "output_type": "stream",
     "text": [
      "data: [[0.469458   0.38770545 0.55136102]\n",
      " [0.19575041 0.08710026 0.20084627]]\n",
      "shape of data: (2, 3)\n",
      "data: [[0.30722939 0.00481326 0.72655215 0.11733337]\n",
      " [0.26126346 0.69047562 0.28411424 0.13807881]\n",
      " [0.11995844 0.59943244 0.356108   0.69477174]]\n",
      "shape of data: (3, 4)\n",
      "variable name: a5:0\n",
      "v1:Tensor(\"a5:0\", shape=(2,), dtype=float32)\n",
      "v2:<tf.Variable 'v:0' shape=() dtype=int32_ref>\n",
      "value: [1. 2.]\n",
      "variable name: 250\n",
      "result: [[0.31166497 0.60046446 0.6475824  0.49168706]\n",
      " [0.1069896  0.18147658 0.23849225 0.17453706]]\n",
      "shape of result: (2, 4)\n"
     ]
    }
   ],
   "source": [
    "import tensorflow as tf\n",
    "import numpy as np\n",
    "tf.reset_default_graph()\n",
    "\n",
    "g_1 = tf.Graph()\n",
    "with g_1.as_default():\n",
    "    v_1 = tf.constant([1.0, 2.0], name=\"a{}\".format(5))\n",
    "    v_2 = tf.Variable(250, name=\"v\")\n",
    "    v_3 = tf.placeholder(tf.float32, shape=[2, 3], name=\"v3\")\n",
    "    v_4 = tf.placeholder(tf.float32, shape=[3, 4], name=\"v4\")\n",
    "    add = tf.matmul(v_3, v_4)\n",
    "    \n",
    "g_2 = tf.Graph()\n",
    "with g_2.as_default():\n",
    "    v = tf.constant([2.0, 3.0], name=\"b\")\n",
    "    \n",
    "with tf.Session(graph=g_1) as sess:\n",
    "    data_1 = np.random.rand(2, 3)\n",
    "    data_2 = np.random.rand(3, 4)\n",
    "    print(\"data: {}\".format(data_1))\n",
    "    print(\"shape of data: {}\".format(data_1.shape))\n",
    "    print(\"data: {}\".format(data_2))\n",
    "    print(\"shape of data: {}\".format(data_2.shape))\n",
    "    init_op = tf.global_variables_initializer()\n",
    "    init_op.run()\n",
    "    print(\"variable name: {}\".format(v_1.name))\n",
    "    print(\"v1:{}\".format(v_1))\n",
    "    print(\"v2:{}\".format(v_2))\n",
    "    v1 = sess.run(v_1)\n",
    "    print(\"value: {}\".format(v1))\n",
    "#     v_name = sess.run(tf.get_variable(\"v\"))\n",
    "    v2 = sess.run(v_2)\n",
    "    print(\"variable name: {}\".format(v2))\n",
    "    result = sess.run(add, feed_dict={v_3: data_1, v_4: data_2})\n",
    "    print(\"result: {}\".format(result))\n",
    "    print(\"shape of result: {}\".format(result.shape))\n",
    "\n"
   ]
  },
  {
   "cell_type": "markdown",
   "metadata": {},
   "source": [
    "## tensorflow model infomation"
   ]
  },
  {
   "cell_type": "code",
   "execution_count": 19,
   "metadata": {},
   "outputs": [
    {
     "name": "stdout",
     "output_type": "stream",
     "text": [
      "INFO:tensorflow:Restoring parameters from ./NN_models/model.ckpt-299\n",
      "Global variables in model: [<tf.Variable 'Layer1/weights_1:0' shape=(1, 10) dtype=float32_ref>, <tf.Variable 'Layer1/biases_1:0' shape=(1, 10) dtype=float32_ref>, <tf.Variable 'Output/weights_2:0' shape=(10, 1) dtype=float32_ref>, <tf.Variable 'Output/biases_2:0' shape=(1, 1) dtype=float32_ref>]\n",
      "Tensor in model: [<tf.Variable 'Layer1/weights_1:0' shape=(1, 10) dtype=float32_ref>, <tf.Variable 'Layer1/biases_1:0' shape=(1, 10) dtype=float32_ref>, <tf.Variable 'Output/weights_2:0' shape=(10, 1) dtype=float32_ref>, <tf.Variable 'Output/biases_2:0' shape=(1, 1) dtype=float32_ref>]\n",
      "Trainable variables name in modle: ['Layer1/weights_1:0', 'Layer1/biases_1:0', 'Output/weights_2:0', 'Output/biases_2:0']\n",
      "Operations in model: [<tf.Operation 'Input/x' type=Placeholder>, <tf.Operation 'Input/y' type=Placeholder>, <tf.Operation 'Layer1/random_normal/shape' type=Const>, <tf.Operation 'Layer1/random_normal/mean' type=Const>, <tf.Operation 'Layer1/random_normal/stddev' type=Const>, <tf.Operation 'Layer1/random_normal/RandomStandardNormal' type=RandomStandardNormal>, <tf.Operation 'Layer1/random_normal/mul' type=Mul>, <tf.Operation 'Layer1/random_normal' type=Add>, <tf.Operation 'Layer1/weights_1' type=VariableV2>, <tf.Operation 'Layer1/weights_1/Assign' type=Assign>, <tf.Operation 'Layer1/weights_1/read' type=Identity>, <tf.Operation 'Layer1/zeros' type=Const>, <tf.Operation 'Layer1/biases_1' type=VariableV2>, <tf.Operation 'Layer1/biases_1/Assign' type=Assign>, <tf.Operation 'Layer1/biases_1/read' type=Identity>, <tf.Operation 'Layer1/MatMul' type=MatMul>, <tf.Operation 'Layer1/add' type=Add>, <tf.Operation 'Layer1/Relu' type=Relu>, <tf.Operation 'Output/random_normal/shape' type=Const>, <tf.Operation 'Output/random_normal/mean' type=Const>, <tf.Operation 'Output/random_normal/stddev' type=Const>, <tf.Operation 'Output/random_normal/RandomStandardNormal' type=RandomStandardNormal>, <tf.Operation 'Output/random_normal/mul' type=Mul>, <tf.Operation 'Output/random_normal' type=Add>, <tf.Operation 'Output/weights_2' type=VariableV2>, <tf.Operation 'Output/weights_2/Assign' type=Assign>, <tf.Operation 'Output/weights_2/read' type=Identity>, <tf.Operation 'Output/zeros' type=Const>, <tf.Operation 'Output/biases_2' type=VariableV2>, <tf.Operation 'Output/biases_2/Assign' type=Assign>, <tf.Operation 'Output/biases_2/read' type=Identity>, <tf.Operation 'Output/MatMul' type=MatMul>, <tf.Operation 'Output/add' type=Add>, <tf.Operation 'Loss/sub' type=Sub>, <tf.Operation 'Loss/Square' type=Square>, <tf.Operation 'Loss/Sum/reduction_indices' type=Const>, <tf.Operation 'Loss/Sum' type=Sum>, <tf.Operation 'Loss/Const' type=Const>, <tf.Operation 'Loss/Mean' type=Mean>, <tf.Operation 'Train_Step/gradients/Shape' type=Const>, <tf.Operation 'Train_Step/gradients/grad_ys_0' type=Const>, <tf.Operation 'Train_Step/gradients/Fill' type=Fill>, <tf.Operation 'Train_Step/gradients/Loss/Mean_grad/Reshape/shape' type=Const>, <tf.Operation 'Train_Step/gradients/Loss/Mean_grad/Reshape' type=Reshape>, <tf.Operation 'Train_Step/gradients/Loss/Mean_grad/Shape' type=Shape>, <tf.Operation 'Train_Step/gradients/Loss/Mean_grad/Tile' type=Tile>, <tf.Operation 'Train_Step/gradients/Loss/Mean_grad/Shape_1' type=Shape>, <tf.Operation 'Train_Step/gradients/Loss/Mean_grad/Shape_2' type=Const>, <tf.Operation 'Train_Step/gradients/Loss/Mean_grad/Const' type=Const>, <tf.Operation 'Train_Step/gradients/Loss/Mean_grad/Prod' type=Prod>, <tf.Operation 'Train_Step/gradients/Loss/Mean_grad/Const_1' type=Const>, <tf.Operation 'Train_Step/gradients/Loss/Mean_grad/Prod_1' type=Prod>, <tf.Operation 'Train_Step/gradients/Loss/Mean_grad/Maximum/y' type=Const>, <tf.Operation 'Train_Step/gradients/Loss/Mean_grad/Maximum' type=Maximum>, <tf.Operation 'Train_Step/gradients/Loss/Mean_grad/floordiv' type=FloorDiv>, <tf.Operation 'Train_Step/gradients/Loss/Mean_grad/Cast' type=Cast>, <tf.Operation 'Train_Step/gradients/Loss/Mean_grad/truediv' type=RealDiv>, <tf.Operation 'Train_Step/gradients/Loss/Sum_grad/Shape' type=Shape>, <tf.Operation 'Train_Step/gradients/Loss/Sum_grad/Size' type=Const>, <tf.Operation 'Train_Step/gradients/Loss/Sum_grad/add' type=Add>, <tf.Operation 'Train_Step/gradients/Loss/Sum_grad/mod' type=FloorMod>, <tf.Operation 'Train_Step/gradients/Loss/Sum_grad/Shape_1' type=Const>, <tf.Operation 'Train_Step/gradients/Loss/Sum_grad/range/start' type=Const>, <tf.Operation 'Train_Step/gradients/Loss/Sum_grad/range/delta' type=Const>, <tf.Operation 'Train_Step/gradients/Loss/Sum_grad/range' type=Range>, <tf.Operation 'Train_Step/gradients/Loss/Sum_grad/Fill/value' type=Const>, <tf.Operation 'Train_Step/gradients/Loss/Sum_grad/Fill' type=Fill>, <tf.Operation 'Train_Step/gradients/Loss/Sum_grad/DynamicStitch' type=DynamicStitch>, <tf.Operation 'Train_Step/gradients/Loss/Sum_grad/Maximum/y' type=Const>, <tf.Operation 'Train_Step/gradients/Loss/Sum_grad/Maximum' type=Maximum>, <tf.Operation 'Train_Step/gradients/Loss/Sum_grad/floordiv' type=FloorDiv>, <tf.Operation 'Train_Step/gradients/Loss/Sum_grad/Reshape' type=Reshape>, <tf.Operation 'Train_Step/gradients/Loss/Sum_grad/Tile' type=Tile>, <tf.Operation 'Train_Step/gradients/Loss/Square_grad/Const' type=Const>, <tf.Operation 'Train_Step/gradients/Loss/Square_grad/Mul' type=Mul>, <tf.Operation 'Train_Step/gradients/Loss/Square_grad/Mul_1' type=Mul>, <tf.Operation 'Train_Step/gradients/Loss/sub_grad/Shape' type=Shape>, <tf.Operation 'Train_Step/gradients/Loss/sub_grad/Shape_1' type=Shape>, <tf.Operation 'Train_Step/gradients/Loss/sub_grad/BroadcastGradientArgs' type=BroadcastGradientArgs>, <tf.Operation 'Train_Step/gradients/Loss/sub_grad/Sum' type=Sum>, <tf.Operation 'Train_Step/gradients/Loss/sub_grad/Reshape' type=Reshape>, <tf.Operation 'Train_Step/gradients/Loss/sub_grad/Sum_1' type=Sum>, <tf.Operation 'Train_Step/gradients/Loss/sub_grad/Neg' type=Neg>, <tf.Operation 'Train_Step/gradients/Loss/sub_grad/Reshape_1' type=Reshape>, <tf.Operation 'Train_Step/gradients/Loss/sub_grad/tuple/group_deps' type=NoOp>, <tf.Operation 'Train_Step/gradients/Loss/sub_grad/tuple/control_dependency' type=Identity>, <tf.Operation 'Train_Step/gradients/Loss/sub_grad/tuple/control_dependency_1' type=Identity>, <tf.Operation 'Train_Step/gradients/Output/add_grad/Shape' type=Shape>, <tf.Operation 'Train_Step/gradients/Output/add_grad/Shape_1' type=Const>, <tf.Operation 'Train_Step/gradients/Output/add_grad/BroadcastGradientArgs' type=BroadcastGradientArgs>, <tf.Operation 'Train_Step/gradients/Output/add_grad/Sum' type=Sum>, <tf.Operation 'Train_Step/gradients/Output/add_grad/Reshape' type=Reshape>, <tf.Operation 'Train_Step/gradients/Output/add_grad/Sum_1' type=Sum>, <tf.Operation 'Train_Step/gradients/Output/add_grad/Reshape_1' type=Reshape>, <tf.Operation 'Train_Step/gradients/Output/add_grad/tuple/group_deps' type=NoOp>, <tf.Operation 'Train_Step/gradients/Output/add_grad/tuple/control_dependency' type=Identity>, <tf.Operation 'Train_Step/gradients/Output/add_grad/tuple/control_dependency_1' type=Identity>, <tf.Operation 'Train_Step/gradients/Output/MatMul_grad/MatMul' type=MatMul>, <tf.Operation 'Train_Step/gradients/Output/MatMul_grad/MatMul_1' type=MatMul>, <tf.Operation 'Train_Step/gradients/Output/MatMul_grad/tuple/group_deps' type=NoOp>, <tf.Operation 'Train_Step/gradients/Output/MatMul_grad/tuple/control_dependency' type=Identity>, <tf.Operation 'Train_Step/gradients/Output/MatMul_grad/tuple/control_dependency_1' type=Identity>, <tf.Operation 'Train_Step/gradients/Layer1/Relu_grad/ReluGrad' type=ReluGrad>, <tf.Operation 'Train_Step/gradients/Layer1/add_grad/Shape' type=Shape>, <tf.Operation 'Train_Step/gradients/Layer1/add_grad/Shape_1' type=Const>, <tf.Operation 'Train_Step/gradients/Layer1/add_grad/BroadcastGradientArgs' type=BroadcastGradientArgs>, <tf.Operation 'Train_Step/gradients/Layer1/add_grad/Sum' type=Sum>, <tf.Operation 'Train_Step/gradients/Layer1/add_grad/Reshape' type=Reshape>, <tf.Operation 'Train_Step/gradients/Layer1/add_grad/Sum_1' type=Sum>, <tf.Operation 'Train_Step/gradients/Layer1/add_grad/Reshape_1' type=Reshape>, <tf.Operation 'Train_Step/gradients/Layer1/add_grad/tuple/group_deps' type=NoOp>, <tf.Operation 'Train_Step/gradients/Layer1/add_grad/tuple/control_dependency' type=Identity>, <tf.Operation 'Train_Step/gradients/Layer1/add_grad/tuple/control_dependency_1' type=Identity>, <tf.Operation 'Train_Step/gradients/Layer1/MatMul_grad/MatMul' type=MatMul>, <tf.Operation 'Train_Step/gradients/Layer1/MatMul_grad/MatMul_1' type=MatMul>, <tf.Operation 'Train_Step/gradients/Layer1/MatMul_grad/tuple/group_deps' type=NoOp>, <tf.Operation 'Train_Step/gradients/Layer1/MatMul_grad/tuple/control_dependency' type=Identity>, <tf.Operation 'Train_Step/gradients/Layer1/MatMul_grad/tuple/control_dependency_1' type=Identity>, <tf.Operation 'Train_Step/GradientDescent/learning_rate' type=Const>, <tf.Operation 'Train_Step/GradientDescent/update_Layer1/weights_1/ApplyGradientDescent' type=ApplyGradientDescent>, <tf.Operation 'Train_Step/GradientDescent/update_Layer1/biases_1/ApplyGradientDescent' type=ApplyGradientDescent>, <tf.Operation 'Train_Step/GradientDescent/update_Output/weights_2/ApplyGradientDescent' type=ApplyGradientDescent>, <tf.Operation 'Train_Step/GradientDescent/update_Output/biases_2/ApplyGradientDescent' type=ApplyGradientDescent>, <tf.Operation 'Train_Step/GradientDescent' type=NoOp>, <tf.Operation 'save/Const' type=Const>, <tf.Operation 'save/SaveV2/tensor_names' type=Const>, <tf.Operation 'save/SaveV2/shape_and_slices' type=Const>, <tf.Operation 'save/SaveV2' type=SaveV2>, <tf.Operation 'save/control_dependency' type=Identity>, <tf.Operation 'save/RestoreV2/tensor_names' type=Const>, <tf.Operation 'save/RestoreV2/shape_and_slices' type=Const>, <tf.Operation 'save/RestoreV2' type=RestoreV2>, <tf.Operation 'save/Assign' type=Assign>, <tf.Operation 'save/Assign_1' type=Assign>, <tf.Operation 'save/Assign_2' type=Assign>, <tf.Operation 'save/Assign_3' type=Assign>, <tf.Operation 'save/restore_all' type=NoOp>, <tf.Operation 'init' type=NoOp>]\n",
      "Layers1 weights: [[-0.613282    0.06405004  0.09076022 -0.18662798 -0.8288842   0.7712373\n",
      "   1.5256277  -0.30017146  0.2636793  -0.5248712 ]]\n"
     ]
    }
   ],
   "source": [
    "import tensorflow as tf\n",
    "tf.reset_default_graph()\n",
    "\n",
    "with tf.Session() as sess:\n",
    "    saver = tf.train.import_meta_graph(\"./NN_models/model.ckpt-299.meta\")\n",
    "    model_file = tf.train.latest_checkpoint(\"./NN_models/\")\n",
    "    saver.restore(sess, model_file)\n",
    "    saver.export_meta_graph(\"./NN_models/NN_model.ckpt.meta.json\")\n",
    "    tensor_in_model = tf.trainable_variables()\n",
    "    g_variable = tf.global_variables()\n",
    "    print(\"Global variables in model: {}\".format(g_variable))\n",
    "    print(\"Tensor in model: {}\".format(tensor_in_model))\n",
    "    variable_in_model = [v.name for v in tf.trainable_variables()]\n",
    "    print(\"Trainable variables name in modle: {}\".format(variable_in_model))\n",
    "    g = tf.get_default_graph()\n",
    "    operations_in_model = g.get_operations()\n",
    "    print(\"Operations in model: {}\".format(operations_in_model))\n",
    "    \n",
    "#     operations_in_model = g.get_operations_by_name(\"\")\n",
    "#     value_in_model = [v.name for v in tf.trainable_variables()]\n",
    "#     print(\"variables in modle: {}\".format(value_in_model))\n",
    "    weights_1 = sess.run(g.get_tensor_by_name(\"Layer1/weights_1:0\"))\n",
    "    print(\"Layers1 weights: {}\".format(weights_1))\n",
    "    \n"
   ]
  },
  {
   "cell_type": "markdown",
   "metadata": {},
   "source": [
    "## restore method another"
   ]
  },
  {
   "cell_type": "code",
   "execution_count": 20,
   "metadata": {},
   "outputs": [
    {
     "name": "stdout",
     "output_type": "stream",
     "text": [
      "Model path: ./NN_models/model.ckpt-299\n",
      "INFO:tensorflow:Restoring parameters from ./NN_models/model.ckpt-299\n",
      "Tensor in model: [<tf.Variable 'Layer1/weights_1:0' shape=(1, 10) dtype=float32_ref>, <tf.Variable 'Layer1/biases_1:0' shape=(1, 10) dtype=float32_ref>, <tf.Variable 'Output/weights_2:0' shape=(10, 1) dtype=float32_ref>, <tf.Variable 'Output/biases_2:0' shape=(1, 1) dtype=float32_ref>]\n"
     ]
    }
   ],
   "source": [
    "import tensorflow as tf\n",
    "# tf.reset_default_graph()\n",
    "\n",
    "with tf.Session() as sess:\n",
    "    ckpt = tf.train.get_checkpoint_state(\"./NN_models\")\n",
    "    model_path = ckpt.model_checkpoint_path\n",
    "    print(\"Model path: {}\".format(model_path))\n",
    "    saver = tf.train.Saver()\n",
    "    saver.restore(sess, model_path)\n",
    "#     tensor_in_model = tf.trainable_variables()\n",
    "    print(\"Tensor in model: {}\".format(tensor_in_model))\n",
    "#     variable_in_model = [v.name for v in tf.trainable_variables()]\n",
    "#     print(\"Trainable variables in modle: {}\".format(variable_in_model))\n",
    "#     g = tf.get_default_graph()\n",
    "#     operations_in_model = g.get_operations()\n",
    "#     print(\"Operations in model: {}\".format(operations_in_model))\n"
   ]
  },
  {
   "cell_type": "markdown",
   "metadata": {},
   "source": [
    "## save model"
   ]
  },
  {
   "cell_type": "code",
   "execution_count": 21,
   "metadata": {},
   "outputs": [],
   "source": [
    "import tensorflow as tf\n",
    "import numpy as np\n",
    "tf.reset_default_graph()\n",
    "x1 = tf.placeholder(tf.int32, shape=[1], name=\"x\")\n",
    "y1 = tf.placeholder(tf.int32, shape=[1], name=\"y\")\n",
    "v1 = tf.Variable(tf.constant(125, shape=[1]), name=\"v_1\")\n",
    "v2 = tf.Variable(tf.constant(125, shape=[1]), name=\"v_2\")\n",
    "global_step = tf.Variable(0, trainable=False, name=\"global_step\")\n",
    "result = v1 + v2\n",
    "tf.add_to_collection(\"result\", result)\n",
    "init_op = tf.global_variables_initializer()\n",
    "saver = tf.train.Saver()\n",
    "with tf.Session() as sess:\n",
    "    init_op = tf.global_variables_initializer()\n",
    "    sess.run(init_op)\n",
    "    saver.save(sess, \"./test_model/plus_model.ckpt\")\n",
    "    # 保存计算图的元数据结构\n",
    "    saver.export_meta_graph(\"./test_model/plus_model.ckpt.meta.json\", as_text=True)\n",
    "#     v = sess.run(v1)\n",
    "#     result = sess.run(result)\n",
    "    \n",
    "#     print(\"Value: {}\".format(v))\n",
    "#     print(\"Result: {}\".format(result))\n"
   ]
  },
  {
   "cell_type": "markdown",
   "metadata": {},
   "source": [
    "## reload model and redefine Graph"
   ]
  },
  {
   "cell_type": "code",
   "execution_count": 22,
   "metadata": {},
   "outputs": [
    {
     "name": "stdout",
     "output_type": "stream",
     "text": [
      "Model path: ./test_model/plus_model.ckpt\n",
      "INFO:tensorflow:Restoring parameters from ./test_model/plus_model.ckpt\n",
      "Variables in model: [<tf.Variable 'v_1:0' shape=(1,) dtype=int32_ref>, <tf.Variable 'v_2:0' shape=(1,) dtype=int32_ref>]\n",
      "Global variables in model: [<tf.Variable 'v_1:0' shape=(1,) dtype=int32_ref>, <tf.Variable 'v_2:0' shape=(1,) dtype=int32_ref>, <tf.Variable 'global_step:0' shape=() dtype=int32_ref>]\n",
      "local variables: []\n",
      "add to collecion: [<tf.Tensor 'add:0' shape=(1,) dtype=int32>]\n",
      "Trainable variables name in modle: ['v_1:0', 'v_2:0']\n",
      "Operations in model: [<tf.Operation 'x' type=Placeholder>, <tf.Operation 'Const' type=Const>, <tf.Operation 'v_1' type=VariableV2>, <tf.Operation 'v_1/Assign' type=Assign>, <tf.Operation 'v_1/read' type=Identity>, <tf.Operation 'Const_1' type=Const>, <tf.Operation 'v_2' type=VariableV2>, <tf.Operation 'v_2/Assign' type=Assign>, <tf.Operation 'v_2/read' type=Identity>, <tf.Operation 'global_step/initial_value' type=Const>, <tf.Operation 'global_step' type=VariableV2>, <tf.Operation 'global_step/Assign' type=Assign>, <tf.Operation 'global_step/read' type=Identity>, <tf.Operation 'add' type=Add>, <tf.Operation 'save/Const' type=Const>, <tf.Operation 'save/SaveV2/tensor_names' type=Const>, <tf.Operation 'save/SaveV2/shape_and_slices' type=Const>, <tf.Operation 'save/SaveV2' type=SaveV2>, <tf.Operation 'save/control_dependency' type=Identity>, <tf.Operation 'save/RestoreV2/tensor_names' type=Const>, <tf.Operation 'save/RestoreV2/shape_and_slices' type=Const>, <tf.Operation 'save/RestoreV2' type=RestoreV2>, <tf.Operation 'save/Assign' type=Assign>, <tf.Operation 'save/Assign_1' type=Assign>, <tf.Operation 'save/Assign_2' type=Assign>, <tf.Operation 'save/restore_all' type=NoOp>]\n",
      "operation name: name: \"x\"\n",
      "op: \"Placeholder\"\n",
      "attr {\n",
      "  key: \"dtype\"\n",
      "  value {\n",
      "    type: DT_INT32\n",
      "  }\n",
      "}\n",
      "attr {\n",
      "  key: \"shape\"\n",
      "  value {\n",
      "    shape {\n",
      "      unknown_rank: true\n",
      "    }\n",
      "  }\n",
      "}\n",
      "\n",
      "operation outputs: [<tf.Tensor 'x:0' shape=<unknown> dtype=int32>]\n",
      "operation outputs value: Tensor(\"x:0\", dtype=int32)\n",
      "operation name: name: \"v_1\"\n",
      "op: \"VariableV2\"\n",
      "attr {\n",
      "  key: \"container\"\n",
      "  value {\n",
      "    s: \"\"\n",
      "  }\n",
      "}\n",
      "attr {\n",
      "  key: \"dtype\"\n",
      "  value {\n",
      "    type: DT_INT32\n",
      "  }\n",
      "}\n",
      "attr {\n",
      "  key: \"shape\"\n",
      "  value {\n",
      "    shape {\n",
      "      dim {\n",
      "        size: 1\n",
      "      }\n",
      "    }\n",
      "  }\n",
      "}\n",
      "attr {\n",
      "  key: \"shared_name\"\n",
      "  value {\n",
      "    s: \"\"\n",
      "  }\n",
      "}\n",
      "\n",
      "operation outputs: [<tf.Tensor 'v_1:0' shape=(1,) dtype=int32_ref>]\n",
      "operation outputs value: Tensor(\"v_1:0\", shape=(1,), dtype=int32_ref)\n",
      "Result: [250]\n",
      "Result: [125]\n",
      "Result: [125]\n"
     ]
    }
   ],
   "source": [
    "import tensorflow as tf\n",
    "import numpy as np\n",
    "tf.reset_default_graph()\n",
    "# 新建图结构\n",
    "g = tf.Graph()\n",
    "# 获取默认图结构\n",
    "with g.as_default():\n",
    "    x = tf.placeholder(tf.int32, name=\"x\")\n",
    "    v1 = tf.Variable(tf.constant(0, shape=[1]), name=\"v_1\")\n",
    "    v2 = tf.Variable(tf.constant(0, shape=[1]), name=\"v_2\")\n",
    "    global_step = tf.Variable(0, trainable=False, name=\"global_step\")\n",
    "    result = v1 + v2\n",
    "    tf.add_to_collection(\"result\", result)\n",
    "with tf.Session(graph=g) as sess:\n",
    "    saver = tf.train.Saver()\n",
    "    ckpt = tf.train.get_checkpoint_state(\"./test_model\")\n",
    "    model_path = ckpt.model_checkpoint_path\n",
    "    print(\"Model path: {}\".format(model_path))\n",
    "    saver.restore(sess, model_path)\n",
    "    # 获取模型中tf.Variable定义的变量\n",
    "    variable_in_model = tf.trainable_variables()\n",
    "    print(\"Variables in model: {}\".format(variable_in_model))\n",
    "    # 获取全局变量\n",
    "    g_variable = tf.global_variables()\n",
    "    print(\"Global variables in model: {}\".format(g_variable))\n",
    "     # 获取本地变量\n",
    "    local_variable = tf.local_variables()\n",
    "    print(\"local variables: {}\".format(local_variable))\n",
    "    # 获取add_to_collecion添加的变量\n",
    "    result_test = tf.get_collection(\"result\")\n",
    "    print(\"add to collecion: {}\".format(result_test))\n",
    "    \n",
    "    # 获取tf.Vaiable定义变量的变量名称\n",
    "    variable_in_model = [v.name for v in tf.trainable_variables()]\n",
    "    print(\"Trainable variables name in modle: {}\".format(variable_in_model))\n",
    "    # 上下文管理器:获取默认图\n",
    "    g = tf.get_default_graph()\n",
    "    # 获取模型中的:操作\n",
    "    operations_in_model = g.get_operations()\n",
    "    print(\"Operations in model: {}\".format(operations_in_model))\n",
    "    # 通过操作名称获取操作\n",
    "    name_operation_placeholder = g.get_operation_by_name('x')\n",
    "    name_operation_outputs_placeholder = g.get_operation_by_name('x').outputs\n",
    "    name_operation_outputs_value_placeholder = g.get_operation_by_name('x').outputs[0]\n",
    "    print(\"operation name: {}\".format(name_operation_placeholder))\n",
    "    print(\"operation outputs: {}\".format(name_operation_outputs_placeholder))\n",
    "    print(\"operation outputs value: {}\".format(name_operation_outputs_value_placeholder))\n",
    "    \n",
    "    name_operation = g.get_operation_by_name('v_1')\n",
    "    name_operation_outputs = g.get_operation_by_name('v_1').outputs\n",
    "    name_operation_outputs_value = g.get_operation_by_name('v_1').outputs[0]\n",
    "    print(\"operation name: {}\".format(name_operation))\n",
    "    print(\"operation outputs: {}\".format(name_operation_outputs))\n",
    "    print(\"operation outputs value: {}\".format(name_operation_outputs_value))\n",
    "    \n",
    "    g = tf.get_default_graph()\n",
    "    print(\"Result: {}\".format(sess.run(g.get_tensor_by_name(\"add:0\"))))\n",
    "    print(\"Result: {}\".format(sess.run(g.get_tensor_by_name(\"v_1:0\"))))\n",
    "    print(\"Result: {}\".format(sess.run(g.get_tensor_by_name(\"v_2:0\"))))\n",
    "\n",
    "    "
   ]
  },
  {
   "cell_type": "markdown",
   "metadata": {},
   "source": [
    "## reload model from source file"
   ]
  },
  {
   "cell_type": "code",
   "execution_count": 23,
   "metadata": {},
   "outputs": [
    {
     "name": "stdout",
     "output_type": "stream",
     "text": [
      "INFO:tensorflow:Restoring parameters from test_model/plus_model.ckpt\n",
      "Tensor in model: [<tf.Variable 'v_1:0' shape=(1,) dtype=int32_ref>, <tf.Variable 'v_2:0' shape=(1,) dtype=int32_ref>]\n",
      "Global variables in model: [<tf.Variable 'v_1:0' shape=(1,) dtype=int32_ref>, <tf.Variable 'v_2:0' shape=(1,) dtype=int32_ref>, <tf.Variable 'global_step:0' shape=() dtype=int32_ref>]\n",
      "local variables: []\n",
      "Trainable variables name in modle: ['v_1:0', 'v_2:0']\n",
      "add to collecion: [<tf.Tensor 'add:0' shape=(1,) dtype=int32>]\n"
     ]
    }
   ],
   "source": [
    "import tensorflow as tf\n",
    "tf.reset_default_graph()\n",
    "\n",
    "with tf.Session() as sess:\n",
    "    saver = tf.train.import_meta_graph(\"test_model/plus_model.ckpt.meta\")\n",
    "    model_file = tf.train.latest_checkpoint(\"test_model/\")\n",
    "    saver.restore(sess, model_file)\n",
    "    # 获取模型中tf.Variable定义的变量\n",
    "    variable_in_model = tf.trainable_variables()\n",
    "    print(\"Tensor in model: {}\".format(variable_in_model))\n",
    "    # 获取全局变量\n",
    "    g_variable = tf.global_variables()\n",
    "    print(\"Global variables in model: {}\".format(g_variable))\n",
    "    # 获取本地变量\n",
    "    local_variable = tf.local_variables()\n",
    "    print(\"local variables: {}\".format(local_variable))\n",
    "    # 获取tf.Vaiable定义变量的变量名称\n",
    "    variable_in_model = [v.name for v in tf.trainable_variables()]\n",
    "    print(\"Trainable variables name in modle: {}\".format(variable_in_model))\n",
    "    # 获取add_to_collecion添加的变量\n",
    "    result_test = tf.get_collection(\"result\")\n",
    "    print(\"add to collecion: {}\".format(result_test))\n",
    "    # 上下文管理器:获取默认图\n",
    "#     g = tf.get_default_graph()\n",
    "\n",
    "#     # 获取模型中的:操作\n",
    "#     operations_in_model = g.get_operations()\n",
    "# #     print(\"Operations in model: {}\".format(operations_in_model))\n",
    "#     # 通过操作名称获取操作\n",
    "#     name_operation_placeholder = g.get_operation_by_name('x')\n",
    "#     name_operation_outputs_placeholder = g.get_operation_by_name('x').outputs\n",
    "#     name_operation_outputs_value_placeholder = g.get_operation_by_name('x').outputs[0]\n",
    "#     print(\"operation name: {}\".format(name_operation_placeholder))\n",
    "#     print(\"operation name: {}\".format(name_operation_outputs_placeholder))\n",
    "#     print(\"operation name: {}\".format(name_operation_outputs_value_placeholder))\n",
    "\n",
    "    \n",
    "#     name_operation = g.get_operation_by_name('v_1')\n",
    "#     name_operation_outputs = g.get_operation_by_name('v_1').outputs\n",
    "#     name_operation_outputs_value = g.get_operation_by_name('v_1').outputs[0]\n",
    "#     print(\"operation name: {}\".format(name_operation))\n",
    "#     print(\"operation name: {}\".format(name_operation_outputs))\n",
    "#     print(\"operation name: {}\".format(name_operation_outputs_value))\n",
    "    \n",
    "#     g = tf.get_default_graph()\n",
    "#     print(\"Result: {}\".format(sess.run(g.get_tensor_by_name(\"add:0\"))))\n",
    "#     print(\"Result: {}\".format(sess.run(g.get_tensor_by_name(\"v_1:0\"))))\n",
    "#     print(\"Result: {}\".format(sess.run(g.get_tensor_by_name(\"v_2:0\"))))\n",
    "    \n",
    "    "
   ]
  },
  {
   "cell_type": "markdown",
   "metadata": {},
   "source": [
    "## test operation和tensor"
   ]
  },
  {
   "cell_type": "code",
   "execution_count": 24,
   "metadata": {},
   "outputs": [
    {
     "name": "stdout",
     "output_type": "stream",
     "text": [
      "variable 1 : Tensor(\"v_1:0\", shape=(), dtype=int32)\n",
      "total : Tensor(\"add:0\", shape=(), dtype=int32)\n",
      "variable 3 : <tf.Variable 'v_3:0' shape=() dtype=int32_ref>\n",
      "variable 1: 250\n",
      "total: 500\n"
     ]
    }
   ],
   "source": [
    "import tensorflow as tf\n",
    "tf.reset_default_graph()\n",
    "# 节点即运算\n",
    "# 新建节点(node),将值添加到图中,得到张量(tensor)\n",
    "v1 = tf.constant(250, name=\"v_1\")\n",
    "v2 = tf.constant(250, name=\"v_2\")\n",
    "# 将运算(op)和张量(tensor)添加到默认图中,得到新的运算(op)\n",
    "total = v1 + v2\n",
    "# 新建操作(op),使用Variable封装,可操作对应的张量\n",
    "v3 = tf.Variable(tf.constant(250), name=\"v_3\")\n",
    "\n",
    "print(\"variable 1 : {}\".format(v1))\n",
    "print(\"total : {}\".format(total))\n",
    "print(\"variable 3 : {}\".format(v3))\n",
    "with tf.Session() as sess:\n",
    "    print(\"variable 1: {}\".format(sess.run(v1)))\n",
    "    print(\"total: {}\".format(sess.run(total)))"
   ]
  },
  {
   "cell_type": "markdown",
   "metadata": {},
   "source": [
    "## new graph"
   ]
  },
  {
   "cell_type": "code",
   "execution_count": 25,
   "metadata": {},
   "outputs": [
    {
     "name": "stdout",
     "output_type": "stream",
     "text": [
      "variable 1 : Tensor(\"v_1:0\", shape=(1,), dtype=int32)\n",
      "total : Tensor(\"add:0\", shape=(1,), dtype=int32)\n",
      "variable 3 : Tensor(\"Const:0\", shape=(), dtype=int32)\n",
      "variable 4 : <tf.Variable 'v_4:0' shape=() dtype=int32_ref>\n",
      "variable 5 : <tf.Variable 'Variable:0' shape=() dtype=int32_ref>\n",
      "graph : True\n",
      "variable 1: [250]\n",
      "total: [500]\n"
     ]
    }
   ],
   "source": [
    "import tensorflow as tf\n",
    "tf.reset_default_graph()\n",
    "g = tf.Graph()\n",
    "config = tf.ConfigProto(log_device_placement=True)\n",
    "with g.as_default():\n",
    "    # 节点即运算\n",
    "    # 新建节点(node),将值添加到图中,得到张量(tensor)\n",
    "    # 使用name自定义名称\n",
    "    v1 = tf.constant(250, shape=[1], name=\"v_1\")\n",
    "    v2 = tf.constant(250, name=\"v_2\")\n",
    "    # 系统自动分配name\n",
    "    v3 = tf.constant(250)\n",
    "    # 将运算(op)和张量(tensor)添加到默认图中,得到新的运算(op)\n",
    "    total = v1 + v2\n",
    "    # 新建操作(op),使用Variable封装,可操作对应的张量\n",
    "    # 使用name自定义名称\n",
    "    v4 = tf.Variable(tf.constant(250), name=\"v_4\")\n",
    "    # 使用系统分配name\n",
    "    v5 = tf.Variable(tf.constant(250))\n",
    "    \n",
    "\n",
    "    print(\"variable 1 : {}\".format(v1))\n",
    "    print(\"total : {}\".format(total))\n",
    "    print(\"variable 3 : {}\".format(v3))\n",
    "    print(\"variable 4 : {}\".format(v4))\n",
    "    print(\"variable 5 : {}\".format(v5))\n",
    "    print(\"graph : {}\".format(v1.graph is tf.get_default_graph()))\n",
    "    \n",
    "with tf.Session(graph=g, config=config) as sess:\n",
    "    print(\"variable 1: {}\".format(sess.run(v1)))\n",
    "    print(\"total: {}\".format(sess.run(total)))\n",
    "    "
   ]
  },
  {
   "cell_type": "markdown",
   "metadata": {},
   "source": [
    "## Tensor"
   ]
  },
  {
   "cell_type": "code",
   "execution_count": 26,
   "metadata": {},
   "outputs": [
    {
     "name": "stdout",
     "output_type": "stream",
     "text": [
      "variable 1: <tf.Variable 'Variable:0' shape=(2, 3) dtype=float64_ref>\n"
     ]
    }
   ],
   "source": [
    "import tensorflow as tf\n",
    "import numpy as np\n",
    "tf.reset_default_graph()\n",
    "\n",
    "v1 = tf.Variable(np.random.rand(2, 3))\n",
    "print(\"variable 1: {}\".format(v1))"
   ]
  },
  {
   "cell_type": "markdown",
   "metadata": {},
   "source": [
    "## session feed dict"
   ]
  },
  {
   "cell_type": "code",
   "execution_count": 27,
   "metadata": {},
   "outputs": [
    {
     "name": "stdout",
     "output_type": "stream",
     "text": [
      "total : [250]\n"
     ]
    }
   ],
   "source": [
    "import tensorflow as tf\n",
    "import numpy as np\n",
    "tf.reset_default_graph()\n",
    "g = tf.Graph()\n",
    "with g.as_default():\n",
    "    v1 = tf.placeholder(tf.int32, shape=[1], name=\"v_1\")\n",
    "    v2 = tf.placeholder(tf.int32, shape=[1], name=\"v_1\")\n",
    "    total = v1 + v2\n",
    "    with tf.Session() as sess:\n",
    "        a = [125]\n",
    "        b = [125]\n",
    "        total = sess.run(total, feed_dict={v1: a, v2: b})\n",
    "        print(\"total : {}\".format(total))\n",
    "\n",
    "# v1 = tf.Variable(np.random.rand(2, 3))\n",
    "# print(\"variable 1: {}\".format(v1))"
   ]
  },
  {
   "cell_type": "markdown",
   "metadata": {},
   "source": [
    "## get default graph"
   ]
  },
  {
   "cell_type": "code",
   "execution_count": 28,
   "metadata": {},
   "outputs": [
    {
     "name": "stdout",
     "output_type": "stream",
     "text": [
      "graph address: <tensorflow.python.framework.ops.Graph object at 0x7f889823fda0>\n",
      "graph : True\n"
     ]
    }
   ],
   "source": [
    "import tensorflow as tf\n",
    "import numpy as np\n",
    "tf.reset_default_graph()\n",
    "g = tf.Graph()\n",
    "with g.as_default():\n",
    "    v1 = tf.placeholder(tf.int32, shape=[1], name=\"v_1\")\n",
    "    v2 = tf.placeholder(tf.int32, shape=[1], name=\"v_1\")\n",
    "    print(\"graph address: {}\".format(v1.graph))\n",
    "    print(\"graph : {}\".format(v1.graph is tf.get_default_graph()))"
   ]
  },
  {
   "cell_type": "markdown",
   "metadata": {},
   "source": [
    "## device"
   ]
  },
  {
   "cell_type": "code",
   "execution_count": 29,
   "metadata": {},
   "outputs": [
    {
     "name": "stdout",
     "output_type": "stream",
     "text": [
      "total : [250]\n"
     ]
    }
   ],
   "source": [
    "import tensorflow as tf\n",
    "import numpy as np\n",
    "tf.reset_default_graph()\n",
    "g = tf.Graph()\n",
    "config = tf.ConfigProto(log_device_placement=True)\n",
    "with g.as_default():\n",
    "    \n",
    "    v1 = tf.placeholder(tf.int32, shape=[1], name=\"v_1\")\n",
    "    v2 = tf.placeholder(tf.int32, shape=[1], name=\"v_1\")\n",
    "    v3 = tf.constant(250, shape=[1], name=\"v_1\")\n",
    "    v4 = tf.constant(250, name=\"v_2\")\n",
    "    total = v1 + v2\n",
    "    with tf.Session(config=config) as sess:\n",
    "        a = [125]\n",
    "        b = [125]\n",
    "        total = sess.run(total, feed_dict={v1: a, v2: b})\n",
    "        print(\"total : {}\".format(total))\n",
    "#     with tf.device(\"/device:CPU:0\"):\n",
    "#         with tf.Session() as sess:\n",
    "#             a = [125]\n",
    "#             b = [125]\n",
    "#             total = sess.run(total, feed_dict={v1: a, v2: b})\n",
    "#             print(\"total : {}\".format(total))"
   ]
  },
  {
   "cell_type": "code",
   "execution_count": 30,
   "metadata": {},
   "outputs": [
    {
     "name": "stdout",
     "output_type": "stream",
     "text": [
      "[500]\n",
      "log_device_placement: true\n",
      "\n"
     ]
    }
   ],
   "source": [
    "import tensorflow as tf\n",
    "import numpy as np\n",
    "tf.reset_default_graph()\n",
    "# g = tf.Graph()\n",
    "config = tf.ConfigProto(log_device_placement=True)\n",
    "v1 = tf.constant(250, shape=[1], name=\"v_1\")\n",
    "v2 = tf.constant(250, name=\"v_2\")\n",
    "# 系统自动分配name\n",
    "v3 = tf.constant(250)\n",
    "# 将运算(op)和张量(tensor)添加到默认图中,得到新的运算(op)\n",
    "total = v1 + v2\n",
    "sess = tf.Session(config=tf.ConfigProto(log_device_placement=True))\n",
    "print(sess.run(total))\n",
    "print(config)\n"
   ]
  },
  {
   "cell_type": "code",
   "execution_count": 31,
   "metadata": {},
   "outputs": [
    {
     "name": "stdout",
     "output_type": "stream",
     "text": [
      "variable: <tf.Variable 'v_1:0' shape=() dtype=int32_ref>\n",
      "variable name: v_1:0\n"
     ]
    }
   ],
   "source": [
    "import tensorflow as tf\n",
    "tf.reset_default_graph()\n",
    "# x = tf.placeholder(tf.int32, name=\"x\")\n",
    "v = tf.Variable(250, tf.int32, name=\"v_1\")\n",
    "\n",
    "# print(\"Node x placeholer: {}\".format(x))\n",
    "print(\"variable: {}\".format(v))\n",
    "print(\"variable name: {}\".format(v.name))"
   ]
  },
  {
   "cell_type": "code",
   "execution_count": null,
   "metadata": {},
   "outputs": [],
   "source": []
  }
 ],
 "metadata": {
  "kernelspec": {
   "display_name": "Python 3",
   "language": "python",
   "name": "python3"
  },
  "language_info": {
   "codemirror_mode": {
    "name": "ipython",
    "version": 3
   },
   "file_extension": ".py",
   "mimetype": "text/x-python",
   "name": "python",
   "nbconvert_exporter": "python",
   "pygments_lexer": "ipython3",
   "version": "3.6.7"
  }
 },
 "nbformat": 4,
 "nbformat_minor": 2
}
