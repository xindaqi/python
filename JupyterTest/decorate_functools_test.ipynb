{
 "cells": [
  {
   "cell_type": "markdown",
   "metadata": {},
   "source": [
    "## create decorate"
   ]
  },
  {
   "cell_type": "code",
   "execution_count": 34,
   "metadata": {},
   "outputs": [
    {
     "name": "stdout",
     "output_type": "stream",
     "text": [
      "Calling function: foo\n",
      "Return value: 9\n",
      "9\n",
      "Return value square.\n",
      "foo\n"
     ]
    }
   ],
   "source": [
    "from functools import wraps\n",
    "def trace(func):\n",
    "    @wraps(func)\n",
    "    def callf(*args, **kwargs):\n",
    "        '''A wrapper function.'''\n",
    "        print(\"Calling function: {}\".format(func.__name__))\n",
    "        res = func(*args, **kwargs)\n",
    "        print(\"Return value: {}\".format(res))\n",
    "        return res\n",
    "    return callf\n",
    "    \n",
    "@trace\n",
    "def foo(x):\n",
    "    '''Return value square.'''\n",
    "    return x*x\n",
    "if __name__ == \"__main__\":\n",
    "    print(foo(3))\n",
    "    print(foo.__doc__)\n",
    "    print(foo.__name__)\n",
    "    "
   ]
  },
  {
   "cell_type": "code",
   "execution_count": 140,
   "metadata": {},
   "outputs": [
    {
     "name": "stdout",
     "output_type": "stream",
     "text": [
      "<function trace.<locals>.callf at 0x7fa77aeb00d0>\n"
     ]
    }
   ],
   "source": [
    "from functools import wraps\n",
    "def foo(x):\n",
    "    '''Return value square.'''\n",
    "    return x*x\n",
    "def trace():\n",
    "    func = foo(5)\n",
    "    @wraps(func)\n",
    "    def callf(*args, **kwargs):\n",
    "        '''A wrapper function.'''\n",
    "        print(\"Calling function: {}\".format(func.__name__))\n",
    "        res = func(*args, **kwargs)\n",
    "        print(\"Return value: {}\".format(res))\n",
    "        return res\n",
    "    return callf\n",
    "    \n",
    "# @trace\n",
    "\n",
    "if __name__ == \"__main__\":\n",
    "    a = trace()\n",
    "    print(a)\n",
    "#     print(foo(3))\n",
    "#     print(foo.__doc__)\n",
    "#     print(foo.__name__)"
   ]
  },
  {
   "cell_type": "markdown",
   "metadata": {},
   "source": [
    "## inspect model test."
   ]
  },
  {
   "cell_type": "code",
   "execution_count": 11,
   "metadata": {},
   "outputs": [
    {
     "name": "stdout",
     "output_type": "stream",
     "text": [
      "[Debug]: enter say_hello()\n",
      "hello\n",
      "[Debug]: enter say_goodbye()\n",
      "good bye\n"
     ]
    }
   ],
   "source": [
    "def debug():\n",
    "    import inspect\n",
    "    caller_name = inspect.stack()[1][3]\n",
    "    print(\"[Debug]: enter {}()\".format(caller_name))\n",
    "def say_hello():\n",
    "    debug()\n",
    "    print(\"hello\")\n",
    "def say_goodbye():\n",
    "    debug()\n",
    "    print(\"good bye\")\n",
    "if __name__ == \"__main__\":\n",
    "    say_hello()\n",
    "    say_goodbye()\n",
    "    "
   ]
  },
  {
   "cell_type": "markdown",
   "metadata": {},
   "source": [
    "## decorate test v2.0"
   ]
  },
  {
   "cell_type": "code",
   "execution_count": 13,
   "metadata": {},
   "outputs": [
    {
     "name": "stdout",
     "output_type": "stream",
     "text": [
      "[DEBUG]: enter say()\n",
      "Prepare and saying...\n",
      "hello hahha\n"
     ]
    }
   ],
   "source": [
    "def debug(func):\n",
    "    def wrapper(*args, **kwargs):\n",
    "        print(\"[DEBUG]: enter {}()\".format(func.__name__))\n",
    "        print(\"Prepare and saying...\")\n",
    "        return func(*args, **kwargs)\n",
    "    return wrapper\n",
    "@debug\n",
    "def say(x):\n",
    "    print(\"hello {}\".format(x))\n",
    "    \n",
    "if __name__ == \"__main__\":\n",
    "    say(\"hahha\")"
   ]
  },
  {
   "cell_type": "markdown",
   "metadata": {},
   "source": [
    "## wrapper with params."
   ]
  },
  {
   "cell_type": "code",
   "execution_count": 23,
   "metadata": {},
   "outputs": [
    {
     "name": "stdout",
     "output_type": "stream",
     "text": [
      "[INOF]: enter function say()\n",
      "hello hahaha\n"
     ]
    }
   ],
   "source": [
    "class logging(object):\n",
    "    def __init__(self, level=\"INFO\"):\n",
    "        self.level = level\n",
    "        \n",
    "    def __call__(self, func):\n",
    "        def wrapper(*args, **kwargs):\n",
    "            print(\"[{level}]: enter function {func}()\".format(level=self.level, func=func.__name__))\n",
    "            func(*args, **kwargs)\n",
    "#             return func(*args, **kwargs)\n",
    "        return wrapper\n",
    "@logging(level=\"INOF\")\n",
    "def say(x):\n",
    "    print(\"hello {}\".format(x))\n",
    "if __name__ == \"__main__\":\n",
    "    say(\"hahaha\")\n",
    "    \n",
    "\n",
    "    \n",
    "    \n",
    "    \n",
    "    "
   ]
  },
  {
   "cell_type": "markdown",
   "metadata": {},
   "source": [
    "## inside wrapper @property"
   ]
  },
  {
   "cell_type": "code",
   "execution_count": 32,
   "metadata": {},
   "outputs": [
    {
     "data": {
      "image/png": "[encoded data removed]",
      "text/plain": [
       "<Figure size 432x432 with 1 Axes>"
      ]
     },
     "metadata": {
      "needs_background": "light"
     },
     "output_type": "display_data"
    },
    {
     "name": "stdout",
     "output_type": "stream",
     "text": [
      "plot_sin function cost time: 0.1657559871673584s\n"
     ]
    }
   ],
   "source": [
    "import numpy as np\n",
    "import matplotlib.pyplot as plt\n",
    "import time\n",
    "\n",
    "def plot_sin():\n",
    "    PI = np.pi\n",
    "    x = np.linspace(-2*PI, 2*PI, 100)\n",
    "    y = np.sin(x)\n",
    "    plt.figure(figsize=(6, 6))\n",
    "    plt.grid()\n",
    "    plt.plot(x, y, 'r-', label=\"$y=sin(x)$\")\n",
    "    plt.legend()\n",
    "    plt.show()\n",
    "    \n",
    "#     print(x)\n",
    "# plot_sin()\n",
    "\n",
    "def time_cal(func):\n",
    "    def wrapper(*args, **kwargs):\n",
    "        time_start = time.time()\n",
    "        func()\n",
    "        time_end = time.time()\n",
    "        time_cost = time_end - time_start\n",
    "        return time_cost\n",
    "    return wrapper\n",
    "\n",
    "@time_cal\n",
    "def plot_sin():\n",
    "    PI = np.pi\n",
    "    x = np.linspace(-2*PI, 2*PI, 100)\n",
    "    y = np.sin(x)\n",
    "    plt.figure(figsize=(6, 6))\n",
    "    plt.grid()\n",
    "    plt.plot(x, y, 'r-', label=\"$y=sin(x)$\")\n",
    "    plt.legend()\n",
    "    plt.show()\n",
    "    \n",
    "if __name__ == \"__main__\":\n",
    "    print(\"plot_sin function cost time: {}s\".format(plot_sin()))\n",
    "    \n",
    "    \n",
    "    \n",
    "    "
   ]
  },
  {
   "cell_type": "code",
   "execution_count": 51,
   "metadata": {},
   "outputs": [
    {
     "name": "stdout",
     "output_type": "stream",
     "text": [
      "<function wrapper_1.<locals>.output_a.<locals>.<lambda> at 0x7fa77ae31950>\n"
     ]
    }
   ],
   "source": [
    "def wrapper_1(func):\n",
    "    def output_a(*args, **kwargs):\n",
    "#         print(\"wrapper 1\")\n",
    "#         func(*args, **kwargs)\n",
    "        \n",
    "#         print(\"first wrapper!\")\n",
    "    return output_a\n",
    "def wrapper_2(func):\n",
    "    def output_b(*args, **kwargs):\n",
    "#         print(\"wrapper 2\")\n",
    "#         func(*args, **kwargs)\n",
    "        \n",
    "#         print(\"second wrapper!\")\n",
    "    return output_b\n",
    "\n",
    "@wrapper_1\n",
    "@wrapper_2\n",
    "def foo():\n",
    "#     return \"hahha\"\n",
    "    print(\"hahaha\")\n",
    "    \n",
    "if __name__ == \"__main__\":\n",
    "    print(foo())\n",
    "    \n",
    "    \n",
    "    \n",
    "    \n",
    "    \n",
    "    \n",
    "    \n",
    "    "
   ]
  },
  {
   "cell_type": "markdown",
   "metadata": {},
   "source": [
    "## wrapper execution sequence"
   ]
  },
  {
   "cell_type": "code",
   "execution_count": 57,
   "metadata": {},
   "outputs": [
    {
     "name": "stdout",
     "output_type": "stream",
     "text": [
      "w1 w2 hahah w2 w1 \n"
     ]
    }
   ],
   "source": [
    "def wrapper_1(func):\n",
    "    return lambda: \"w1 \"+func()+\"w1 \"\n",
    "def wrapper_2(func):\n",
    "    return lambda:\"w2\"+func()+\"w2 \"\n",
    "@wrapper_1\n",
    "@wrapper_2\n",
    "def foo():\n",
    "    return \" hahah \"\n",
    "if __name__ == \"__main__\":\n",
    "    print(foo())"
   ]
  },
  {
   "cell_type": "markdown",
   "metadata": {},
   "source": [
    "## property wrapper"
   ]
  },
  {
   "cell_type": "code",
   "execution_count": 62,
   "metadata": {},
   "outputs": [
    {
     "name": "stdout",
     "output_type": "stream",
     "text": [
      "var_1\n",
      "var_2\n"
     ]
    }
   ],
   "source": [
    "class Foo(object):\n",
    "    def __init__(self, var):\n",
    "        self._var = var\n",
    "        \n",
    "    @property\n",
    "    def var(self):\n",
    "        return self._var\n",
    "    @var.setter\n",
    "    def var(self, var):\n",
    "        self._var = var\n",
    "foo = Foo(\"var_1\")\n",
    "print(foo.var)\n",
    "foo.var = \"var_2\"\n",
    "print(foo.var)"
   ]
  },
  {
   "cell_type": "markdown",
   "metadata": {},
   "source": [
    "## @property"
   ]
  },
  {
   "cell_type": "code",
   "execution_count": 142,
   "metadata": {},
   "outputs": [
    {
     "name": "stdout",
     "output_type": "stream",
     "text": [
      "100\n"
     ]
    },
    {
     "ename": "ValueError",
     "evalue": "invalid score",
     "output_type": "error",
     "traceback": [
      "\u001b[0;31m---------------------------------------------------------------------------\u001b[0m",
      "\u001b[0;31mValueError\u001b[0m                                Traceback (most recent call last)",
      "\u001b[0;32m<ipython-input-142-99037b9e42d8>\u001b[0m in \u001b[0;36m<module>\u001b[0;34m\u001b[0m\n\u001b[1;32m     19\u001b[0m     \u001b[0mfoo\u001b[0m \u001b[0;34m=\u001b[0m \u001b[0mFoo\u001b[0m\u001b[0;34m(\u001b[0m\u001b[0;34m\"hahah\"\u001b[0m\u001b[0;34m,\u001b[0m \u001b[0;36m100\u001b[0m\u001b[0;34m)\u001b[0m\u001b[0;34m\u001b[0m\u001b[0;34m\u001b[0m\u001b[0m\n\u001b[1;32m     20\u001b[0m     \u001b[0mprint\u001b[0m\u001b[0;34m(\u001b[0m\u001b[0mfoo\u001b[0m\u001b[0;34m.\u001b[0m\u001b[0mscore\u001b[0m\u001b[0;34m)\u001b[0m\u001b[0;34m\u001b[0m\u001b[0;34m\u001b[0m\u001b[0m\n\u001b[0;32m---> 21\u001b[0;31m     \u001b[0mfoo\u001b[0m\u001b[0;34m.\u001b[0m\u001b[0mscore\u001b[0m \u001b[0;34m=\u001b[0m \u001b[0;36m1000\u001b[0m\u001b[0;34m\u001b[0m\u001b[0;34m\u001b[0m\u001b[0m\n\u001b[0m\u001b[1;32m     22\u001b[0m     \u001b[0mfoo\u001b[0m\u001b[0;34m.\u001b[0m\u001b[0mscore\u001b[0m\u001b[0;34m\u001b[0m\u001b[0;34m\u001b[0m\u001b[0m\n\u001b[1;32m     23\u001b[0m     \u001b[0mfoo\u001b[0m\u001b[0;34m.\u001b[0m\u001b[0mscore\u001b[0m\u001b[0;34m\u001b[0m\u001b[0;34m\u001b[0m\u001b[0m\n",
      "\u001b[0;32m<ipython-input-142-99037b9e42d8>\u001b[0m in \u001b[0;36mscore\u001b[0;34m(self, value)\u001b[0m\n\u001b[1;32m      9\u001b[0m     \u001b[0;32mdef\u001b[0m \u001b[0mscore\u001b[0m\u001b[0;34m(\u001b[0m\u001b[0mself\u001b[0m\u001b[0;34m,\u001b[0m \u001b[0mvalue\u001b[0m\u001b[0;34m)\u001b[0m\u001b[0;34m:\u001b[0m\u001b[0;34m\u001b[0m\u001b[0;34m\u001b[0m\u001b[0m\n\u001b[1;32m     10\u001b[0m         \u001b[0;32mif\u001b[0m \u001b[0mvalue\u001b[0m \u001b[0;34m>\u001b[0m \u001b[0;36m100\u001b[0m\u001b[0;34m:\u001b[0m\u001b[0;34m\u001b[0m\u001b[0;34m\u001b[0m\u001b[0m\n\u001b[0;32m---> 11\u001b[0;31m             \u001b[0;32mraise\u001b[0m \u001b[0mValueError\u001b[0m\u001b[0;34m(\u001b[0m\u001b[0;34m'invalid score'\u001b[0m\u001b[0;34m)\u001b[0m\u001b[0;34m\u001b[0m\u001b[0;34m\u001b[0m\u001b[0m\n\u001b[0m\u001b[1;32m     12\u001b[0m         \u001b[0mself\u001b[0m\u001b[0;34m.\u001b[0m\u001b[0m__score\u001b[0m \u001b[0;34m=\u001b[0m \u001b[0mvalue\u001b[0m\u001b[0;34m\u001b[0m\u001b[0;34m\u001b[0m\u001b[0m\n\u001b[1;32m     13\u001b[0m     \u001b[0;34m@\u001b[0m\u001b[0mscore\u001b[0m\u001b[0;34m.\u001b[0m\u001b[0mdeleter\u001b[0m\u001b[0;34m\u001b[0m\u001b[0;34m\u001b[0m\u001b[0m\n",
      "\u001b[0;31mValueError\u001b[0m: invalid score"
     ]
    }
   ],
   "source": [
    "class Foo(object):\n",
    "    def __init__(self, name, score):\n",
    "        self.name = name\n",
    "        self.__score = score\n",
    "    @property\n",
    "    def score(self):\n",
    "        return self.__score\n",
    "    @score.setter\n",
    "    def score(self, value):\n",
    "        if value > 100:\n",
    "            raise ValueError('invalid score')\n",
    "        self.__score = value\n",
    "    @score.deleter\n",
    "    def score(self):\n",
    "        del self.__score\n",
    "\n",
    "if __name__ == \"__main__\":            \n",
    "            \n",
    "    foo = Foo(\"hahah\", 100)\n",
    "    print(foo.score)\n",
    "    foo.score = 1000\n",
    "    foo.score\n",
    "    foo.score\n",
    "#     print(s.score)\n",
    "#     print(s.__score)"
   ]
  },
  {
   "cell_type": "code",
   "execution_count": 109,
   "metadata": {},
   "outputs": [
    {
     "name": "stdout",
     "output_type": "stream",
     "text": [
      "Help on Foo in module __main__ object:\n",
      "\n",
      "class Foo(builtins.object)\n",
      " |  Methods defined here:\n",
      " |  \n",
      " |  __init__(self)\n",
      " |      Initialize self.  See help(type(self)) for accurate signature.\n",
      " |  \n",
      " |  delx(self)\n",
      " |  \n",
      " |  getx(self)\n",
      " |  \n",
      " |  setx(self, value)\n",
      " |  \n",
      " |  ----------------------------------------------------------------------\n",
      " |  Data descriptors defined here:\n",
      " |  \n",
      " |  __dict__\n",
      " |      dictionary for instance variables (if defined)\n",
      " |  \n",
      " |  __weakref__\n",
      " |      list of weak references to the object (if defined)\n",
      " |  \n",
      " |  x\n",
      " |      hahha\n",
      "\n",
      "None\n",
      "set_x invoked\n",
      "get_x invoked\n",
      "del_x invoked\n"
     ]
    }
   ],
   "source": [
    "class Foo(object):\n",
    "    def __init__(self):\n",
    "        self._x = None\n",
    "    def getx(self):\n",
    "        print(\"get_x invoked\")\n",
    "        return self._x\n",
    "    def setx(self, value):\n",
    "        print(\"set_x invoked\")\n",
    "        self._x = value\n",
    "    def delx(self):\n",
    "        print(\"del_x invoked\")\n",
    "        del self._x\n",
    "    x = property(getx, setx, delx, \"hahha\")\n",
    "    \n",
    "if __name__ == \"__main__\":\n",
    "    foo = Foo()\n",
    "    print(help(foo))\n",
    "    '''set'''\n",
    "    foo.x = '100'\n",
    "    '''get'''\n",
    "    foo.x\n",
    "    '''delete'''\n",
    "    del foo.x"
   ]
  },
  {
   "cell_type": "code",
   "execution_count": 153,
   "metadata": {},
   "outputs": [
    {
     "name": "stdout",
     "output_type": "stream",
     "text": [
      "Help on Foo in module __main__ object:\n",
      "\n",
      "class Foo(builtins.object)\n",
      " |  Methods defined here:\n",
      " |  \n",
      " |  __init__(self)\n",
      " |      Initialize self.  See help(type(self)) for accurate signature.\n",
      " |  \n",
      " |  ----------------------------------------------------------------------\n",
      " |  Data descriptors defined here:\n",
      " |  \n",
      " |  __dict__\n",
      " |      dictionary for instance variables (if defined)\n",
      " |  \n",
      " |  __weakref__\n",
      " |      list of weak references to the object (if defined)\n",
      " |  \n",
      " |  x\n",
      " |      Get value.\n",
      "\n",
      "None\n",
      "set\n",
      "get\n",
      "x value: 1\n",
      "delete attribute\n",
      "get\n"
     ]
    },
    {
     "ename": "AttributeError",
     "evalue": "'Foo' object has no attribute '_x'",
     "output_type": "error",
     "traceback": [
      "\u001b[0;31m---------------------------------------------------------------------------\u001b[0m",
      "\u001b[0;31mAttributeError\u001b[0m                            Traceback (most recent call last)",
      "\u001b[0;32m<ipython-input-153-276bb444891e>\u001b[0m in \u001b[0;36m<module>\u001b[0;34m\u001b[0m\n\u001b[1;32m     30\u001b[0m     \u001b[0;32mdel\u001b[0m \u001b[0mfoo\u001b[0m\u001b[0;34m.\u001b[0m\u001b[0mx\u001b[0m\u001b[0;34m\u001b[0m\u001b[0;34m\u001b[0m\u001b[0m\n\u001b[1;32m     31\u001b[0m     \u001b[0;34m'''get'''\u001b[0m\u001b[0;34m\u001b[0m\u001b[0;34m\u001b[0m\u001b[0m\n\u001b[0;32m---> 32\u001b[0;31m     \u001b[0mprint\u001b[0m\u001b[0;34m(\u001b[0m\u001b[0;34m\"x value: {}\"\u001b[0m\u001b[0;34m.\u001b[0m\u001b[0mformat\u001b[0m\u001b[0;34m(\u001b[0m\u001b[0mfoo\u001b[0m\u001b[0;34m.\u001b[0m\u001b[0mx\u001b[0m\u001b[0;34m)\u001b[0m\u001b[0;34m)\u001b[0m\u001b[0;34m\u001b[0m\u001b[0;34m\u001b[0m\u001b[0m\n\u001b[0m\u001b[1;32m     33\u001b[0m \u001b[0;34m\u001b[0m\u001b[0m\n",
      "\u001b[0;32m<ipython-input-153-276bb444891e>\u001b[0m in \u001b[0;36mx\u001b[0;34m(self)\u001b[0m\n\u001b[1;32m      6\u001b[0m         \u001b[0;34m'''Get value.'''\u001b[0m\u001b[0;34m\u001b[0m\u001b[0;34m\u001b[0m\u001b[0m\n\u001b[1;32m      7\u001b[0m         \u001b[0mprint\u001b[0m\u001b[0;34m(\u001b[0m\u001b[0;34m\"get\"\u001b[0m\u001b[0;34m)\u001b[0m\u001b[0;34m\u001b[0m\u001b[0;34m\u001b[0m\u001b[0m\n\u001b[0;32m----> 8\u001b[0;31m         \u001b[0;32mreturn\u001b[0m \u001b[0mself\u001b[0m\u001b[0;34m.\u001b[0m\u001b[0m_x\u001b[0m\u001b[0;34m\u001b[0m\u001b[0;34m\u001b[0m\u001b[0m\n\u001b[0m\u001b[1;32m      9\u001b[0m     \u001b[0;34m@\u001b[0m\u001b[0mx\u001b[0m\u001b[0;34m.\u001b[0m\u001b[0msetter\u001b[0m\u001b[0;34m\u001b[0m\u001b[0;34m\u001b[0m\u001b[0m\n\u001b[1;32m     10\u001b[0m     \u001b[0;32mdef\u001b[0m \u001b[0mx\u001b[0m\u001b[0;34m(\u001b[0m\u001b[0mself\u001b[0m\u001b[0;34m,\u001b[0m \u001b[0mvalue\u001b[0m\u001b[0;34m)\u001b[0m\u001b[0;34m:\u001b[0m\u001b[0;34m\u001b[0m\u001b[0;34m\u001b[0m\u001b[0m\n",
      "\u001b[0;31mAttributeError\u001b[0m: 'Foo' object has no attribute '_x'"
     ]
    }
   ],
   "source": [
    "class Foo(object):\n",
    "    def __init__(self):\n",
    "        self._x = None\n",
    "    @property\n",
    "    def x(self):\n",
    "        '''Get value.'''\n",
    "        print(\"get\")\n",
    "        return self._x\n",
    "    @x.setter\n",
    "    def x(self, value):\n",
    "        '''Set value.'''\n",
    "        print(\"set\")\n",
    "        if value > 10:\n",
    "            raise ValueError(\"invalid value\")\n",
    "        self._x = value\n",
    "    @x.deleter\n",
    "    def x(self):\n",
    "        '''Delete value.'''\n",
    "        print(\"delete attribute\")\n",
    "        del self._x\n",
    "        \n",
    "if __name__ == \"__main__\":\n",
    "    foo = Foo()\n",
    "    print(help(foo))\n",
    "    '''set'''\n",
    "    foo.x = 1\n",
    "    '''get'''\n",
    "    print(\"x value: {}\".format(foo.x))\n",
    "    '''delete'''\n",
    "    del foo.x\n",
    "    '''get'''\n",
    "    print(\"x value: {}\".format(foo.x))\n",
    "    "
   ]
  },
  {
   "cell_type": "code",
   "execution_count": null,
   "metadata": {},
   "outputs": [],
   "source": []
  }
 ],
 "metadata": {
  "kernelspec": {
   "display_name": "Python 3",
   "language": "python",
   "name": "python3"
  },
  "language_info": {
   "codemirror_mode": {
    "name": "ipython",
    "version": 3
   },
   "file_extension": ".py",
   "mimetype": "text/x-python",
   "name": "python",
   "nbconvert_exporter": "python",
   "pygments_lexer": "ipython3",
   "version": "3.6.8"
  }
 },
 "nbformat": 4,
 "nbformat_minor": 2
}
